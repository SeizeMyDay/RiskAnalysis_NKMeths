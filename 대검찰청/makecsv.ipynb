{
 "cells": [
  {
   "cell_type": "code",
   "execution_count": 88,
   "id": "ece7b3cd-988b-4ba0-8525-25818e42802e",
   "metadata": {},
   "outputs": [],
   "source": [
    "import pandas as pd\n",
    "import datetime as dt"
   ]
  },
  {
   "cell_type": "code",
   "execution_count": 95,
   "id": "7f88de46-5535-420c-8091-499111716713",
   "metadata": {},
   "outputs": [],
   "source": [
    "df = pd.DataFrame({'date': [], 'agg_seizure': []})"
   ]
  },
  {
   "cell_type": "code",
   "execution_count": 96,
   "id": "e7c17f0c-47b9-47d0-a1f5-67ae2cc772b7",
   "metadata": {},
   "outputs": [],
   "source": [
    "it = 0\n",
    "\n",
    "def inputs() :\n",
    "    s = pd.to_datetime(input('yyyymm or exit: '), format='%Y%m')\n",
    "    d = float(input('매스암페타민(필로폰, 히로뽕) 압수량 or exit: '))\n",
    "    return(pd.DataFrame({'date': [s], 'agg_seizure': [d]}))\n",
    "\n",
    "def run(a) :\n",
    "    df = a\n",
    "    it = 0\n",
    "    while it == 0 :\n",
    "        try :\n",
    "            idx = inputs()\n",
    "            print(idx)\n",
    "            df = pd.concat([df, idx], ignore_index = True)\n",
    "        except Exception as e :\n",
    "            print(e)\n",
    "            it = 1\n",
    "    return(df)"
   ]
  },
  {
   "cell_type": "code",
   "execution_count": 97,
   "id": "8f828691-6193-4437-95db-32387b59f419",
   "metadata": {},
   "outputs": [
    {
     "data": {
      "text/html": [
       "<div>\n",
       "<style scoped>\n",
       "    .dataframe tbody tr th:only-of-type {\n",
       "        vertical-align: middle;\n",
       "    }\n",
       "\n",
       "    .dataframe tbody tr th {\n",
       "        vertical-align: top;\n",
       "    }\n",
       "\n",
       "    .dataframe thead th {\n",
       "        text-align: right;\n",
       "    }\n",
       "</style>\n",
       "<table border=\"1\" class=\"dataframe\">\n",
       "  <thead>\n",
       "    <tr style=\"text-align: right;\">\n",
       "      <th></th>\n",
       "      <th>date</th>\n",
       "      <th>agg_seizure</th>\n",
       "    </tr>\n",
       "  </thead>\n",
       "  <tbody>\n",
       "  </tbody>\n",
       "</table>\n",
       "</div>"
      ],
      "text/plain": [
       "Empty DataFrame\n",
       "Columns: [date, agg_seizure]\n",
       "Index: []"
      ]
     },
     "execution_count": 97,
     "metadata": {},
     "output_type": "execute_result"
    }
   ],
   "source": [
    "df"
   ]
  },
  {
   "cell_type": "code",
   "execution_count": null,
   "id": "70f9c531-1c09-4960-bb9d-5b0f919f6bf1",
   "metadata": {},
   "outputs": [
    {
     "name": "stdin",
     "output_type": "stream",
     "text": [
      "yyyymm or exit:  200110\n",
      "매스암페타민(필로폰, 히로뽕) 압수량 or exit:  75000\n"
     ]
    },
    {
     "name": "stdout",
     "output_type": "stream",
     "text": [
      "        date  agg_seizure\n",
      "0 2001-10-01      75000.0\n"
     ]
    },
    {
     "name": "stderr",
     "output_type": "stream",
     "text": [
      "C:\\Users\\injae\\AppData\\Local\\Temp\\ipykernel_26060\\2525856044.py:15: FutureWarning: The behavior of DataFrame concatenation with empty or all-NA entries is deprecated. In a future version, this will no longer exclude empty or all-NA columns when determining the result dtypes. To retain the old behavior, exclude the relevant entries before the concat operation.\n",
      "  df = pd.concat([df, idx], ignore_index = True)\n"
     ]
    },
    {
     "name": "stdin",
     "output_type": "stream",
     "text": [
      "yyyymm or exit:  200111\n",
      "매스암페타민(필로폰, 히로뽕) 압수량 or exit:  166000\n"
     ]
    },
    {
     "name": "stdout",
     "output_type": "stream",
     "text": [
      "        date  agg_seizure\n",
      "0 2001-11-01     166000.0\n"
     ]
    },
    {
     "name": "stdin",
     "output_type": "stream",
     "text": [
      "yyyymm or exit:  200112\n",
      "매스암페타민(필로폰, 히로뽕) 압수량 or exit:  170000\n"
     ]
    },
    {
     "name": "stdout",
     "output_type": "stream",
     "text": [
      "        date  agg_seizure\n",
      "0 2001-12-01     170000.0\n"
     ]
    }
   ],
   "source": [
    "df = run(df)\n",
    "df"
   ]
  },
  {
   "cell_type": "code",
   "execution_count": 93,
   "id": "03116b25-a449-4a97-840f-6a7348f07d30",
   "metadata": {},
   "outputs": [
    {
     "data": {
      "text/html": [
       "<div>\n",
       "<style scoped>\n",
       "    .dataframe tbody tr th:only-of-type {\n",
       "        vertical-align: middle;\n",
       "    }\n",
       "\n",
       "    .dataframe tbody tr th {\n",
       "        vertical-align: top;\n",
       "    }\n",
       "\n",
       "    .dataframe thead th {\n",
       "        text-align: right;\n",
       "    }\n",
       "</style>\n",
       "<table border=\"1\" class=\"dataframe\">\n",
       "  <thead>\n",
       "    <tr style=\"text-align: right;\">\n",
       "      <th></th>\n",
       "      <th>date</th>\n",
       "      <th>agg_seizure</th>\n",
       "    </tr>\n",
       "  </thead>\n",
       "  <tbody>\n",
       "    <tr>\n",
       "      <th>0</th>\n",
       "      <td>2001-10-01</td>\n",
       "      <td>75.0</td>\n",
       "    </tr>\n",
       "    <tr>\n",
       "      <th>1</th>\n",
       "      <td>2001-11-01</td>\n",
       "      <td>166.0</td>\n",
       "    </tr>\n",
       "    <tr>\n",
       "      <th>2</th>\n",
       "      <td>2001-12-01</td>\n",
       "      <td>170.0</td>\n",
       "    </tr>\n",
       "  </tbody>\n",
       "</table>\n",
       "</div>"
      ],
      "text/plain": [
       "        date  agg_seizure\n",
       "0 2001-10-01         75.0\n",
       "1 2001-11-01        166.0\n",
       "2 2001-12-01        170.0"
      ]
     },
     "execution_count": 93,
     "metadata": {},
     "output_type": "execute_result"
    }
   ],
   "source": [
    "df"
   ]
  },
  {
   "cell_type": "code",
   "execution_count": 75,
   "id": "ac4750f6-8ba9-4133-924f-384b428de026",
   "metadata": {},
   "outputs": [
    {
     "data": {
      "text/html": [
       "<div>\n",
       "<style scoped>\n",
       "    .dataframe tbody tr th:only-of-type {\n",
       "        vertical-align: middle;\n",
       "    }\n",
       "\n",
       "    .dataframe tbody tr th {\n",
       "        vertical-align: top;\n",
       "    }\n",
       "\n",
       "    .dataframe thead th {\n",
       "        text-align: right;\n",
       "    }\n",
       "</style>\n",
       "<table border=\"1\" class=\"dataframe\">\n",
       "  <thead>\n",
       "    <tr style=\"text-align: right;\">\n",
       "      <th></th>\n",
       "      <th>date</th>\n",
       "      <th>seizure</th>\n",
       "    </tr>\n",
       "  </thead>\n",
       "  <tbody>\n",
       "    <tr>\n",
       "      <th>0</th>\n",
       "      <td>2024-01-01</td>\n",
       "      <td>123.0</td>\n",
       "    </tr>\n",
       "    <tr>\n",
       "      <th>1</th>\n",
       "      <td>2024-02-01</td>\n",
       "      <td>125.0</td>\n",
       "    </tr>\n",
       "    <tr>\n",
       "      <th>2</th>\n",
       "      <td>2024-03-01</td>\n",
       "      <td>126.0</td>\n",
       "    </tr>\n",
       "  </tbody>\n",
       "</table>\n",
       "</div>"
      ],
      "text/plain": [
       "        date  seizure\n",
       "0 2024-01-01    123.0\n",
       "1 2024-02-01    125.0\n",
       "2 2024-03-01    126.0"
      ]
     },
     "execution_count": 75,
     "metadata": {},
     "output_type": "execute_result"
    }
   ],
   "source": [
    "df.to_csv('KRMethSeizure')"
   ]
  },
  {
   "cell_type": "markdown",
   "id": "b45ea617-d6d3-42be-b920-8f69446d7776",
   "metadata": {},
   "source": [
    "이 자료는 각 년도별 1월 부터 해당 월까지의 압수량을 합산한 데이터임  \n",
    "따라서 이전 기에서 현재 기를 뺀 값이 실제 해당 월의 압수량임.  \n",
    "즉 2001년 2월의 압수량은 2024-02-01의 agg_seizure값의 이전 기 대비 증가량임.  \n",
    "이러한 전처리 필요함  \n",
    "단위는 g임(2001년은 kg였음. 변환 필요)"
   ]
  },
  {
   "cell_type": "code",
   "execution_count": null,
   "id": "d5fb05f1-2838-404c-8e65-55dafda1a179",
   "metadata": {},
   "outputs": [],
   "source": []
  }
 ],
 "metadata": {
  "kernelspec": {
   "display_name": "Python 3 (ipykernel)",
   "language": "python",
   "name": "python3"
  },
  "language_info": {
   "codemirror_mode": {
    "name": "ipython",
    "version": 3
   },
   "file_extension": ".py",
   "mimetype": "text/x-python",
   "name": "python",
   "nbconvert_exporter": "python",
   "pygments_lexer": "ipython3",
   "version": "3.12.9"
  }
 },
 "nbformat": 4,
 "nbformat_minor": 5
}
