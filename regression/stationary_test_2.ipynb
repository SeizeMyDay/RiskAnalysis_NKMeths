{
 "cells": [
  {
   "cell_type": "code",
   "execution_count": 7,
   "id": "b665b676-4670-4959-9464-5504430c5043",
   "metadata": {},
   "outputs": [],
   "source": [
    "import pandas as pd\n",
    "import numpy as np\n",
    "import plotly.express as px"
   ]
  },
  {
   "cell_type": "code",
   "execution_count": 3,
   "id": "5daeee90-fd74-4159-91b2-1e37d3903280",
   "metadata": {},
   "outputs": [],
   "source": [
    "df = pd.read_csv('regression.csv')"
   ]
  },
  {
   "cell_type": "code",
   "execution_count": 4,
   "id": "24e1e1cb-1730-4f63-b6ea-1494676a0494",
   "metadata": {},
   "outputs": [
    {
     "data": {
      "text/html": [
       "<div>\n",
       "<style scoped>\n",
       "    .dataframe tbody tr th:only-of-type {\n",
       "        vertical-align: middle;\n",
       "    }\n",
       "\n",
       "    .dataframe tbody tr th {\n",
       "        vertical-align: top;\n",
       "    }\n",
       "\n",
       "    .dataframe thead th {\n",
       "        text-align: right;\n",
       "    }\n",
       "</style>\n",
       "<table border=\"1\" class=\"dataframe\">\n",
       "  <thead>\n",
       "    <tr style=\"text-align: right;\">\n",
       "      <th></th>\n",
       "      <th>date</th>\n",
       "      <th>seizure</th>\n",
       "      <th>HK_exports_to_Korea_logdiff</th>\n",
       "    </tr>\n",
       "  </thead>\n",
       "  <tbody>\n",
       "    <tr>\n",
       "      <th>0</th>\n",
       "      <td>2001-02-01</td>\n",
       "      <td>5830.0</td>\n",
       "      <td>NaN</td>\n",
       "    </tr>\n",
       "    <tr>\n",
       "      <th>1</th>\n",
       "      <td>2001-03-01</td>\n",
       "      <td>4035.0</td>\n",
       "      <td>0.023309</td>\n",
       "    </tr>\n",
       "    <tr>\n",
       "      <th>2</th>\n",
       "      <td>2001-04-01</td>\n",
       "      <td>3636.0</td>\n",
       "      <td>-0.014729</td>\n",
       "    </tr>\n",
       "    <tr>\n",
       "      <th>3</th>\n",
       "      <td>2001-05-01</td>\n",
       "      <td>42145.0</td>\n",
       "      <td>-0.017692</td>\n",
       "    </tr>\n",
       "    <tr>\n",
       "      <th>4</th>\n",
       "      <td>2001-06-01</td>\n",
       "      <td>2973.0</td>\n",
       "      <td>-0.151941</td>\n",
       "    </tr>\n",
       "    <tr>\n",
       "      <th>...</th>\n",
       "      <td>...</td>\n",
       "      <td>...</td>\n",
       "      <td>...</td>\n",
       "    </tr>\n",
       "    <tr>\n",
       "      <th>288</th>\n",
       "      <td>2025-02-01</td>\n",
       "      <td>22929.0</td>\n",
       "      <td>-0.226862</td>\n",
       "    </tr>\n",
       "    <tr>\n",
       "      <th>289</th>\n",
       "      <td>2025-03-01</td>\n",
       "      <td>15695.0</td>\n",
       "      <td>0.062489</td>\n",
       "    </tr>\n",
       "    <tr>\n",
       "      <th>290</th>\n",
       "      <td>2025-04-01</td>\n",
       "      <td>33653.0</td>\n",
       "      <td>-0.071124</td>\n",
       "    </tr>\n",
       "    <tr>\n",
       "      <th>291</th>\n",
       "      <td>2025-05-01</td>\n",
       "      <td>3346.0</td>\n",
       "      <td>-0.035947</td>\n",
       "    </tr>\n",
       "    <tr>\n",
       "      <th>292</th>\n",
       "      <td>2025-06-01</td>\n",
       "      <td>27151.0</td>\n",
       "      <td>-0.000642</td>\n",
       "    </tr>\n",
       "  </tbody>\n",
       "</table>\n",
       "<p>293 rows × 3 columns</p>\n",
       "</div>"
      ],
      "text/plain": [
       "           date  seizure  HK_exports_to_Korea_logdiff\n",
       "0    2001-02-01   5830.0                          NaN\n",
       "1    2001-03-01   4035.0                     0.023309\n",
       "2    2001-04-01   3636.0                    -0.014729\n",
       "3    2001-05-01  42145.0                    -0.017692\n",
       "4    2001-06-01   2973.0                    -0.151941\n",
       "..          ...      ...                          ...\n",
       "288  2025-02-01  22929.0                    -0.226862\n",
       "289  2025-03-01  15695.0                     0.062489\n",
       "290  2025-04-01  33653.0                    -0.071124\n",
       "291  2025-05-01   3346.0                    -0.035947\n",
       "292  2025-06-01  27151.0                    -0.000642\n",
       "\n",
       "[293 rows x 3 columns]"
      ]
     },
     "execution_count": 4,
     "metadata": {},
     "output_type": "execute_result"
    }
   ],
   "source": [
    "df"
   ]
  },
  {
   "cell_type": "code",
   "execution_count": 5,
   "id": "32375838-3aaa-47df-aa56-99b8bcbcbc3d",
   "metadata": {},
   "outputs": [],
   "source": [
    "df['seizure_log'] = np.log(df['seizure'])"
   ]
  },
  {
   "cell_type": "code",
   "execution_count": 6,
   "id": "bea93106-7b72-4850-9e77-f5b430dc772f",
   "metadata": {},
   "outputs": [
    {
     "data": {
      "text/html": [
       "<div>\n",
       "<style scoped>\n",
       "    .dataframe tbody tr th:only-of-type {\n",
       "        vertical-align: middle;\n",
       "    }\n",
       "\n",
       "    .dataframe tbody tr th {\n",
       "        vertical-align: top;\n",
       "    }\n",
       "\n",
       "    .dataframe thead th {\n",
       "        text-align: right;\n",
       "    }\n",
       "</style>\n",
       "<table border=\"1\" class=\"dataframe\">\n",
       "  <thead>\n",
       "    <tr style=\"text-align: right;\">\n",
       "      <th></th>\n",
       "      <th>date</th>\n",
       "      <th>seizure</th>\n",
       "      <th>HK_exports_to_Korea_logdiff</th>\n",
       "      <th>seizure_log</th>\n",
       "    </tr>\n",
       "  </thead>\n",
       "  <tbody>\n",
       "    <tr>\n",
       "      <th>0</th>\n",
       "      <td>2001-02-01</td>\n",
       "      <td>5830.0</td>\n",
       "      <td>NaN</td>\n",
       "      <td>8.670772</td>\n",
       "    </tr>\n",
       "    <tr>\n",
       "      <th>1</th>\n",
       "      <td>2001-03-01</td>\n",
       "      <td>4035.0</td>\n",
       "      <td>0.023309</td>\n",
       "      <td>8.302762</td>\n",
       "    </tr>\n",
       "    <tr>\n",
       "      <th>2</th>\n",
       "      <td>2001-04-01</td>\n",
       "      <td>3636.0</td>\n",
       "      <td>-0.014729</td>\n",
       "      <td>8.198639</td>\n",
       "    </tr>\n",
       "    <tr>\n",
       "      <th>3</th>\n",
       "      <td>2001-05-01</td>\n",
       "      <td>42145.0</td>\n",
       "      <td>-0.017692</td>\n",
       "      <td>10.648871</td>\n",
       "    </tr>\n",
       "    <tr>\n",
       "      <th>4</th>\n",
       "      <td>2001-06-01</td>\n",
       "      <td>2973.0</td>\n",
       "      <td>-0.151941</td>\n",
       "      <td>7.997327</td>\n",
       "    </tr>\n",
       "    <tr>\n",
       "      <th>...</th>\n",
       "      <td>...</td>\n",
       "      <td>...</td>\n",
       "      <td>...</td>\n",
       "      <td>...</td>\n",
       "    </tr>\n",
       "    <tr>\n",
       "      <th>288</th>\n",
       "      <td>2025-02-01</td>\n",
       "      <td>22929.0</td>\n",
       "      <td>-0.226862</td>\n",
       "      <td>10.040158</td>\n",
       "    </tr>\n",
       "    <tr>\n",
       "      <th>289</th>\n",
       "      <td>2025-03-01</td>\n",
       "      <td>15695.0</td>\n",
       "      <td>0.062489</td>\n",
       "      <td>9.661097</td>\n",
       "    </tr>\n",
       "    <tr>\n",
       "      <th>290</th>\n",
       "      <td>2025-04-01</td>\n",
       "      <td>33653.0</td>\n",
       "      <td>-0.071124</td>\n",
       "      <td>10.423857</td>\n",
       "    </tr>\n",
       "    <tr>\n",
       "      <th>291</th>\n",
       "      <td>2025-05-01</td>\n",
       "      <td>3346.0</td>\n",
       "      <td>-0.035947</td>\n",
       "      <td>8.115521</td>\n",
       "    </tr>\n",
       "    <tr>\n",
       "      <th>292</th>\n",
       "      <td>2025-06-01</td>\n",
       "      <td>27151.0</td>\n",
       "      <td>-0.000642</td>\n",
       "      <td>10.209169</td>\n",
       "    </tr>\n",
       "  </tbody>\n",
       "</table>\n",
       "<p>293 rows × 4 columns</p>\n",
       "</div>"
      ],
      "text/plain": [
       "           date  seizure  HK_exports_to_Korea_logdiff  seizure_log\n",
       "0    2001-02-01   5830.0                          NaN     8.670772\n",
       "1    2001-03-01   4035.0                     0.023309     8.302762\n",
       "2    2001-04-01   3636.0                    -0.014729     8.198639\n",
       "3    2001-05-01  42145.0                    -0.017692    10.648871\n",
       "4    2001-06-01   2973.0                    -0.151941     7.997327\n",
       "..          ...      ...                          ...          ...\n",
       "288  2025-02-01  22929.0                    -0.226862    10.040158\n",
       "289  2025-03-01  15695.0                     0.062489     9.661097\n",
       "290  2025-04-01  33653.0                    -0.071124    10.423857\n",
       "291  2025-05-01   3346.0                    -0.035947     8.115521\n",
       "292  2025-06-01  27151.0                    -0.000642    10.209169\n",
       "\n",
       "[293 rows x 4 columns]"
      ]
     },
     "execution_count": 6,
     "metadata": {},
     "output_type": "execute_result"
    }
   ],
   "source": [
    "df"
   ]
  },
  {
   "cell_type": "code",
   "execution_count": 21,
   "id": "f8d08967-25e1-4086-8a75-319f7c1dad8c",
   "metadata": {},
   "outputs": [
    {
     "data": {
      "application/vnd.plotly.v1+json": {
       "config": {
        "plotlyServerURL": "https://plot.ly"
       },
       "data": [
        {
         "hovertemplate": "x=%{x}<br>y=%{y}<extra></extra>",
         "legendgroup": "",
         "line": {
          "color": "#636efa",
          "dash": "solid"
         },
         "marker": {
          "symbol": "circle"
         },
         "mode": "lines",
         "name": "",
         "orientation": "v",
         "showlegend": false,
         "type": "scatter",
         "x": [
          "2001-02-01",
          "2001-03-01",
          "2001-04-01",
          "2001-05-01",
          "2001-06-01",
          "2001-07-01",
          "2001-08-01",
          "2001-09-01",
          "2001-10-01",
          "2001-11-01",
          "2001-12-01",
          "2002-01-01",
          "2002-02-01",
          "2002-03-01",
          "2002-04-01",
          "2002-05-01",
          "2002-06-01",
          "2002-07-01",
          "2002-08-01",
          "2002-09-01",
          "2002-10-01",
          "2002-11-01",
          "2002-12-01",
          "2003-01-01",
          "2003-02-01",
          "2003-03-01",
          "2003-04-01",
          "2003-05-01",
          "2003-06-01",
          "2003-07-01",
          "2003-08-01",
          "2003-09-01",
          "2003-10-01",
          "2003-11-01",
          "2003-12-01",
          "2004-01-01",
          "2004-02-01",
          "2004-03-01",
          "2004-04-01",
          "2004-05-01",
          "2004-06-01",
          "2004-07-01",
          "2004-08-01",
          "2004-09-01",
          "2004-10-01",
          "2004-11-01",
          "2004-12-01",
          "2005-01-01",
          "2005-02-01",
          "2005-03-01",
          "2005-04-01",
          "2005-05-01",
          "2005-06-01",
          "2005-07-01",
          "2005-08-01",
          "2005-09-01",
          "2005-10-01",
          "2005-11-01",
          "2005-12-01",
          "2006-01-01",
          "2006-02-01",
          "2006-03-01",
          "2006-04-01",
          "2006-05-01",
          "2006-06-01",
          "2006-07-01",
          "2006-08-01",
          "2006-09-01",
          "2006-10-01",
          "2006-11-01",
          "2006-12-01",
          "2007-01-01",
          "2007-02-01",
          "2007-03-01",
          "2007-04-01",
          "2007-05-01",
          "2007-06-01",
          "2007-07-01",
          "2007-08-01",
          "2007-09-01",
          "2007-10-01",
          "2007-11-01",
          "2007-12-01",
          "2008-01-01",
          "2008-02-01",
          "2008-03-01",
          "2008-04-01",
          "2008-05-01",
          "2008-06-01",
          "2008-07-01",
          "2008-08-01",
          "2008-09-01",
          "2008-10-01",
          "2008-11-01",
          "2008-12-01",
          "2009-01-01",
          "2009-02-01",
          "2009-03-01",
          "2009-04-01",
          "2009-05-01",
          "2009-06-01",
          "2009-07-01",
          "2009-08-01",
          "2009-09-01",
          "2009-10-01",
          "2009-11-01",
          "2009-12-01",
          "2010-01-01",
          "2010-02-01",
          "2010-03-01",
          "2010-04-01",
          "2010-05-01",
          "2010-06-01",
          "2010-07-01",
          "2010-08-01",
          "2010-09-01",
          "2010-10-01",
          "2010-11-01",
          "2010-12-01",
          "2011-01-01",
          "2011-02-01",
          "2011-03-01",
          "2011-04-01",
          "2011-05-01",
          "2011-06-01",
          "2011-07-01",
          "2011-08-01",
          "2011-09-01",
          "2011-10-01",
          "2011-11-01",
          "2011-12-01",
          "2012-01-01",
          "2012-02-01",
          "2012-03-01",
          "2012-04-01",
          "2012-05-01",
          "2012-06-01",
          "2012-07-01",
          "2012-08-01",
          "2012-09-01",
          "2012-10-01",
          "2012-11-01",
          "2012-12-01",
          "2013-01-01",
          "2013-02-01",
          "2013-03-01",
          "2013-04-01",
          "2013-05-01",
          "2013-06-01",
          "2013-07-01",
          "2013-08-01",
          "2013-09-01",
          "2013-10-01",
          "2013-11-01",
          "2013-12-01",
          "2014-01-01",
          "2014-02-01",
          "2014-03-01",
          "2014-04-01",
          "2014-05-01",
          "2014-06-01",
          "2014-07-01",
          "2014-08-01",
          "2014-09-01",
          "2014-10-01",
          "2014-11-01",
          "2014-12-01",
          "2015-01-01",
          "2015-02-01",
          "2015-03-01",
          "2015-04-01",
          "2015-05-01",
          "2015-06-01",
          "2015-07-01",
          "2015-08-01",
          "2015-09-01",
          "2015-10-01",
          "2015-11-01",
          "2015-12-01",
          "2016-01-01",
          "2016-02-01",
          "2016-03-01",
          "2016-04-01",
          "2016-05-01",
          "2016-06-01",
          "2016-07-01",
          "2016-08-01",
          "2016-09-01",
          "2016-10-01",
          "2016-11-01",
          "2016-12-01",
          "2017-01-01",
          "2017-02-01",
          "2017-03-01",
          "2017-04-01",
          "2017-05-01",
          "2017-06-01",
          "2017-07-01",
          "2017-08-01",
          "2017-09-01",
          "2017-10-01",
          "2017-11-01",
          "2017-12-01",
          "2018-01-01",
          "2018-02-01",
          "2018-03-01",
          "2018-04-01",
          "2018-05-01",
          "2018-06-01",
          "2018-07-01",
          "2018-08-01",
          "2018-09-01",
          "2018-10-01",
          "2018-11-01",
          "2018-12-01",
          "2019-01-01",
          "2019-02-01",
          "2019-03-01",
          "2019-04-01",
          "2019-05-01",
          "2019-06-01",
          "2019-07-01",
          "2019-08-01",
          "2019-09-01",
          "2019-10-01",
          "2019-11-01",
          "2019-12-01",
          "2020-01-01",
          "2020-02-01",
          "2020-03-01",
          "2020-04-01",
          "2020-05-01",
          "2020-06-01",
          "2020-07-01",
          "2020-08-01",
          "2020-09-01",
          "2020-10-01",
          "2020-11-01",
          "2020-12-01",
          "2021-01-01",
          "2021-02-01",
          "2021-03-01",
          "2021-04-01",
          "2021-05-01",
          "2021-06-01",
          "2021-07-01",
          "2021-08-01",
          "2021-09-01",
          "2021-10-01",
          "2021-11-01",
          "2021-12-01",
          "2022-01-01",
          "2022-02-01",
          "2022-03-01",
          "2022-04-01",
          "2022-05-01",
          "2022-06-01",
          "2022-07-01",
          "2022-08-01",
          "2022-09-01",
          "2022-10-01",
          "2022-11-01",
          "2022-12-01",
          "2023-01-01",
          "2023-02-01",
          "2023-03-01",
          "2023-04-01",
          "2023-05-01",
          "2023-06-01",
          "2023-07-01",
          "2023-08-01",
          "2023-09-01",
          "2023-10-01",
          "2023-11-01",
          "2023-12-01",
          "2024-01-01",
          "2024-02-01",
          "2024-03-01",
          "2024-04-01",
          "2024-05-01",
          "2024-06-01",
          "2024-07-01",
          "2024-08-01",
          "2024-09-01",
          "2024-10-01",
          "2024-11-01",
          "2024-12-01",
          "2025-01-01",
          "2025-02-01",
          "2025-03-01",
          "2025-04-01",
          "2025-05-01",
          "2025-06-01"
         ],
         "xaxis": "x",
         "y": {
          "bdata": "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",
          "dtype": "f8"
         },
         "yaxis": "y"
        }
       ],
       "layout": {
        "legend": {
         "tracegroupgap": 0
        },
        "margin": {
         "t": 60
        },
        "template": {
         "data": {
          "bar": [
           {
            "error_x": {
             "color": "#2a3f5f"
            },
            "error_y": {
             "color": "#2a3f5f"
            },
            "marker": {
             "line": {
              "color": "#E5ECF6",
              "width": 0.5
             },
             "pattern": {
              "fillmode": "overlay",
              "size": 10,
              "solidity": 0.2
             }
            },
            "type": "bar"
           }
          ],
          "barpolar": [
           {
            "marker": {
             "line": {
              "color": "#E5ECF6",
              "width": 0.5
             },
             "pattern": {
              "fillmode": "overlay",
              "size": 10,
              "solidity": 0.2
             }
            },
            "type": "barpolar"
           }
          ],
          "carpet": [
           {
            "aaxis": {
             "endlinecolor": "#2a3f5f",
             "gridcolor": "white",
             "linecolor": "white",
             "minorgridcolor": "white",
             "startlinecolor": "#2a3f5f"
            },
            "baxis": {
             "endlinecolor": "#2a3f5f",
             "gridcolor": "white",
             "linecolor": "white",
             "minorgridcolor": "white",
             "startlinecolor": "#2a3f5f"
            },
            "type": "carpet"
           }
          ],
          "choropleth": [
           {
            "colorbar": {
             "outlinewidth": 0,
             "ticks": ""
            },
            "type": "choropleth"
           }
          ],
          "contour": [
           {
            "colorbar": {
             "outlinewidth": 0,
             "ticks": ""
            },
            "colorscale": [
             [
              0,
              "#0d0887"
             ],
             [
              0.1111111111111111,
              "#46039f"
             ],
             [
              0.2222222222222222,
              "#7201a8"
             ],
             [
              0.3333333333333333,
              "#9c179e"
             ],
             [
              0.4444444444444444,
              "#bd3786"
             ],
             [
              0.5555555555555556,
              "#d8576b"
             ],
             [
              0.6666666666666666,
              "#ed7953"
             ],
             [
              0.7777777777777778,
              "#fb9f3a"
             ],
             [
              0.8888888888888888,
              "#fdca26"
             ],
             [
              1,
              "#f0f921"
             ]
            ],
            "type": "contour"
           }
          ],
          "contourcarpet": [
           {
            "colorbar": {
             "outlinewidth": 0,
             "ticks": ""
            },
            "type": "contourcarpet"
           }
          ],
          "heatmap": [
           {
            "colorbar": {
             "outlinewidth": 0,
             "ticks": ""
            },
            "colorscale": [
             [
              0,
              "#0d0887"
             ],
             [
              0.1111111111111111,
              "#46039f"
             ],
             [
              0.2222222222222222,
              "#7201a8"
             ],
             [
              0.3333333333333333,
              "#9c179e"
             ],
             [
              0.4444444444444444,
              "#bd3786"
             ],
             [
              0.5555555555555556,
              "#d8576b"
             ],
             [
              0.6666666666666666,
              "#ed7953"
             ],
             [
              0.7777777777777778,
              "#fb9f3a"
             ],
             [
              0.8888888888888888,
              "#fdca26"
             ],
             [
              1,
              "#f0f921"
             ]
            ],
            "type": "heatmap"
           }
          ],
          "histogram": [
           {
            "marker": {
             "pattern": {
              "fillmode": "overlay",
              "size": 10,
              "solidity": 0.2
             }
            },
            "type": "histogram"
           }
          ],
          "histogram2d": [
           {
            "colorbar": {
             "outlinewidth": 0,
             "ticks": ""
            },
            "colorscale": [
             [
              0,
              "#0d0887"
             ],
             [
              0.1111111111111111,
              "#46039f"
             ],
             [
              0.2222222222222222,
              "#7201a8"
             ],
             [
              0.3333333333333333,
              "#9c179e"
             ],
             [
              0.4444444444444444,
              "#bd3786"
             ],
             [
              0.5555555555555556,
              "#d8576b"
             ],
             [
              0.6666666666666666,
              "#ed7953"
             ],
             [
              0.7777777777777778,
              "#fb9f3a"
             ],
             [
              0.8888888888888888,
              "#fdca26"
             ],
             [
              1,
              "#f0f921"
             ]
            ],
            "type": "histogram2d"
           }
          ],
          "histogram2dcontour": [
           {
            "colorbar": {
             "outlinewidth": 0,
             "ticks": ""
            },
            "colorscale": [
             [
              0,
              "#0d0887"
             ],
             [
              0.1111111111111111,
              "#46039f"
             ],
             [
              0.2222222222222222,
              "#7201a8"
             ],
             [
              0.3333333333333333,
              "#9c179e"
             ],
             [
              0.4444444444444444,
              "#bd3786"
             ],
             [
              0.5555555555555556,
              "#d8576b"
             ],
             [
              0.6666666666666666,
              "#ed7953"
             ],
             [
              0.7777777777777778,
              "#fb9f3a"
             ],
             [
              0.8888888888888888,
              "#fdca26"
             ],
             [
              1,
              "#f0f921"
             ]
            ],
            "type": "histogram2dcontour"
           }
          ],
          "mesh3d": [
           {
            "colorbar": {
             "outlinewidth": 0,
             "ticks": ""
            },
            "type": "mesh3d"
           }
          ],
          "parcoords": [
           {
            "line": {
             "colorbar": {
              "outlinewidth": 0,
              "ticks": ""
             }
            },
            "type": "parcoords"
           }
          ],
          "pie": [
           {
            "automargin": true,
            "type": "pie"
           }
          ],
          "scatter": [
           {
            "fillpattern": {
             "fillmode": "overlay",
             "size": 10,
             "solidity": 0.2
            },
            "type": "scatter"
           }
          ],
          "scatter3d": [
           {
            "line": {
             "colorbar": {
              "outlinewidth": 0,
              "ticks": ""
             }
            },
            "marker": {
             "colorbar": {
              "outlinewidth": 0,
              "ticks": ""
             }
            },
            "type": "scatter3d"
           }
          ],
          "scattercarpet": [
           {
            "marker": {
             "colorbar": {
              "outlinewidth": 0,
              "ticks": ""
             }
            },
            "type": "scattercarpet"
           }
          ],
          "scattergeo": [
           {
            "marker": {
             "colorbar": {
              "outlinewidth": 0,
              "ticks": ""
             }
            },
            "type": "scattergeo"
           }
          ],
          "scattergl": [
           {
            "marker": {
             "colorbar": {
              "outlinewidth": 0,
              "ticks": ""
             }
            },
            "type": "scattergl"
           }
          ],
          "scattermap": [
           {
            "marker": {
             "colorbar": {
              "outlinewidth": 0,
              "ticks": ""
             }
            },
            "type": "scattermap"
           }
          ],
          "scattermapbox": [
           {
            "marker": {
             "colorbar": {
              "outlinewidth": 0,
              "ticks": ""
             }
            },
            "type": "scattermapbox"
           }
          ],
          "scatterpolar": [
           {
            "marker": {
             "colorbar": {
              "outlinewidth": 0,
              "ticks": ""
             }
            },
            "type": "scatterpolar"
           }
          ],
          "scatterpolargl": [
           {
            "marker": {
             "colorbar": {
              "outlinewidth": 0,
              "ticks": ""
             }
            },
            "type": "scatterpolargl"
           }
          ],
          "scatterternary": [
           {
            "marker": {
             "colorbar": {
              "outlinewidth": 0,
              "ticks": ""
             }
            },
            "type": "scatterternary"
           }
          ],
          "surface": [
           {
            "colorbar": {
             "outlinewidth": 0,
             "ticks": ""
            },
            "colorscale": [
             [
              0,
              "#0d0887"
             ],
             [
              0.1111111111111111,
              "#46039f"
             ],
             [
              0.2222222222222222,
              "#7201a8"
             ],
             [
              0.3333333333333333,
              "#9c179e"
             ],
             [
              0.4444444444444444,
              "#bd3786"
             ],
             [
              0.5555555555555556,
              "#d8576b"
             ],
             [
              0.6666666666666666,
              "#ed7953"
             ],
             [
              0.7777777777777778,
              "#fb9f3a"
             ],
             [
              0.8888888888888888,
              "#fdca26"
             ],
             [
              1,
              "#f0f921"
             ]
            ],
            "type": "surface"
           }
          ],
          "table": [
           {
            "cells": {
             "fill": {
              "color": "#EBF0F8"
             },
             "line": {
              "color": "white"
             }
            },
            "header": {
             "fill": {
              "color": "#C8D4E3"
             },
             "line": {
              "color": "white"
             }
            },
            "type": "table"
           }
          ]
         },
         "layout": {
          "annotationdefaults": {
           "arrowcolor": "#2a3f5f",
           "arrowhead": 0,
           "arrowwidth": 1
          },
          "autotypenumbers": "strict",
          "coloraxis": {
           "colorbar": {
            "outlinewidth": 0,
            "ticks": ""
           }
          },
          "colorscale": {
           "diverging": [
            [
             0,
             "#8e0152"
            ],
            [
             0.1,
             "#c51b7d"
            ],
            [
             0.2,
             "#de77ae"
            ],
            [
             0.3,
             "#f1b6da"
            ],
            [
             0.4,
             "#fde0ef"
            ],
            [
             0.5,
             "#f7f7f7"
            ],
            [
             0.6,
             "#e6f5d0"
            ],
            [
             0.7,
             "#b8e186"
            ],
            [
             0.8,
             "#7fbc41"
            ],
            [
             0.9,
             "#4d9221"
            ],
            [
             1,
             "#276419"
            ]
           ],
           "sequential": [
            [
             0,
             "#0d0887"
            ],
            [
             0.1111111111111111,
             "#46039f"
            ],
            [
             0.2222222222222222,
             "#7201a8"
            ],
            [
             0.3333333333333333,
             "#9c179e"
            ],
            [
             0.4444444444444444,
             "#bd3786"
            ],
            [
             0.5555555555555556,
             "#d8576b"
            ],
            [
             0.6666666666666666,
             "#ed7953"
            ],
            [
             0.7777777777777778,
             "#fb9f3a"
            ],
            [
             0.8888888888888888,
             "#fdca26"
            ],
            [
             1,
             "#f0f921"
            ]
           ],
           "sequentialminus": [
            [
             0,
             "#0d0887"
            ],
            [
             0.1111111111111111,
             "#46039f"
            ],
            [
             0.2222222222222222,
             "#7201a8"
            ],
            [
             0.3333333333333333,
             "#9c179e"
            ],
            [
             0.4444444444444444,
             "#bd3786"
            ],
            [
             0.5555555555555556,
             "#d8576b"
            ],
            [
             0.6666666666666666,
             "#ed7953"
            ],
            [
             0.7777777777777778,
             "#fb9f3a"
            ],
            [
             0.8888888888888888,
             "#fdca26"
            ],
            [
             1,
             "#f0f921"
            ]
           ]
          },
          "colorway": [
           "#636efa",
           "#EF553B",
           "#00cc96",
           "#ab63fa",
           "#FFA15A",
           "#19d3f3",
           "#FF6692",
           "#B6E880",
           "#FF97FF",
           "#FECB52"
          ],
          "font": {
           "color": "#2a3f5f"
          },
          "geo": {
           "bgcolor": "white",
           "lakecolor": "white",
           "landcolor": "#E5ECF6",
           "showlakes": true,
           "showland": true,
           "subunitcolor": "white"
          },
          "hoverlabel": {
           "align": "left"
          },
          "hovermode": "closest",
          "mapbox": {
           "style": "light"
          },
          "paper_bgcolor": "white",
          "plot_bgcolor": "#E5ECF6",
          "polar": {
           "angularaxis": {
            "gridcolor": "white",
            "linecolor": "white",
            "ticks": ""
           },
           "bgcolor": "#E5ECF6",
           "radialaxis": {
            "gridcolor": "white",
            "linecolor": "white",
            "ticks": ""
           }
          },
          "scene": {
           "xaxis": {
            "backgroundcolor": "#E5ECF6",
            "gridcolor": "white",
            "gridwidth": 2,
            "linecolor": "white",
            "showbackground": true,
            "ticks": "",
            "zerolinecolor": "white"
           },
           "yaxis": {
            "backgroundcolor": "#E5ECF6",
            "gridcolor": "white",
            "gridwidth": 2,
            "linecolor": "white",
            "showbackground": true,
            "ticks": "",
            "zerolinecolor": "white"
           },
           "zaxis": {
            "backgroundcolor": "#E5ECF6",
            "gridcolor": "white",
            "gridwidth": 2,
            "linecolor": "white",
            "showbackground": true,
            "ticks": "",
            "zerolinecolor": "white"
           }
          },
          "shapedefaults": {
           "line": {
            "color": "#2a3f5f"
           }
          },
          "ternary": {
           "aaxis": {
            "gridcolor": "white",
            "linecolor": "white",
            "ticks": ""
           },
           "baxis": {
            "gridcolor": "white",
            "linecolor": "white",
            "ticks": ""
           },
           "bgcolor": "#E5ECF6",
           "caxis": {
            "gridcolor": "white",
            "linecolor": "white",
            "ticks": ""
           }
          },
          "title": {
           "x": 0.05
          },
          "xaxis": {
           "automargin": true,
           "gridcolor": "white",
           "linecolor": "white",
           "ticks": "",
           "title": {
            "standoff": 15
           },
           "zerolinecolor": "white",
           "zerolinewidth": 2
          },
          "yaxis": {
           "automargin": true,
           "gridcolor": "white",
           "linecolor": "white",
           "ticks": "",
           "title": {
            "standoff": 15
           },
           "zerolinecolor": "white",
           "zerolinewidth": 2
          }
         }
        },
        "xaxis": {
         "anchor": "y",
         "domain": [
          0,
          1
         ],
         "title": {
          "text": "x"
         }
        },
        "yaxis": {
         "anchor": "x",
         "domain": [
          0,
          1
         ],
         "title": {
          "text": "y"
         }
        }
       }
      },
      "image/png": "[encoded data removed]"
     },
     "metadata": {},
     "output_type": "display_data"
    }
   ],
   "source": [
    "px.line(x=df['date'],y=df['seizure'])"
   ]
  },
  {
   "cell_type": "code",
   "execution_count": 11,
   "id": "4eaef8fe-730c-4040-919c-9f0b8bf19efe",
   "metadata": {},
   "outputs": [
    {
     "data": {
      "application/vnd.plotly.v1+json": {
       "config": {
        "plotlyServerURL": "https://plot.ly"
       },
       "data": [
        {
         "hovertemplate": "variable=seizure_log<br>index=%{x}<br>value=%{y}<extra></extra>",
         "legendgroup": "seizure_log",
         "line": {
          "color": "#636efa",
          "dash": "solid"
         },
         "marker": {
          "symbol": "circle"
         },
         "mode": "lines",
         "name": "seizure_log",
         "orientation": "v",
         "showlegend": true,
         "type": "scatter",
         "x": {
          "bdata": "AAABAAIAAwAEAAUABgAHAAgACQAKAAsADAANAA4ADwAQABEAEgATABQAFQAWABcAGAAZABoAGwAcAB0AHgAfACAAIQAiACMAJAAlACYAJwAoACkAKgArACwALQAuAC8AMAAxADIAMwA0ADUANgA3ADgAOQA6ADsAPAA9AD4APwBAAEEAQgBDAEQARQBGAEcASABJAEoASwBMAE0ATgBPAFAAUQBSAFMAVABVAFYAVwBYAFkAWgBbAFwAXQBeAF8AYABhAGIAYwBkAGUAZgBnAGgAaQBqAGsAbABtAG4AbwBwAHEAcgBzAHQAdQB2AHcAeAB5AHoAewB8AH0AfgB/AIAAgQCCAIMAhACFAIYAhwCIAIkAigCLAIwAjQCOAI8AkACRAJIAkwCUAJUAlgCXAJgAmQCaAJsAnACdAJ4AnwCgAKEAogCjAKQApQCmAKcAqACpAKoAqwCsAK0ArgCvALAAsQCyALMAtAC1ALYAtwC4ALkAugC7ALwAvQC+AL8AwADBAMIAwwDEAMUAxgDHAMgAyQDKAMsAzADNAM4AzwDQANEA0gDTANQA1QDWANcA2ADZANoA2wDcAN0A3gDfAOAA4QDiAOMA5ADlAOYA5wDoAOkA6gDrAOwA7QDuAO8A8ADxAPIA8wD0APUA9gD3APgA+QD6APsA/AD9AP4A/wAAAQEBAgEDAQQBBQEGAQcBCAEJAQoBCwEMAQ0BDgEPARABEQESARMBFAEVARYBFwEYARkBGgEbARwBHQEeAR8BIAEhASIBIwEkAQ==",
          "dtype": "i2"
         },
         "xaxis": "x",
         "y": {
          "bdata": "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",
          "dtype": "f8"
         },
         "yaxis": "y"
        }
       ],
       "layout": {
        "legend": {
         "title": {
          "text": "variable"
         },
         "tracegroupgap": 0
        },
        "margin": {
         "t": 60
        },
        "template": {
         "data": {
          "bar": [
           {
            "error_x": {
             "color": "#2a3f5f"
            },
            "error_y": {
             "color": "#2a3f5f"
            },
            "marker": {
             "line": {
              "color": "#E5ECF6",
              "width": 0.5
             },
             "pattern": {
              "fillmode": "overlay",
              "size": 10,
              "solidity": 0.2
             }
            },
            "type": "bar"
           }
          ],
          "barpolar": [
           {
            "marker": {
             "line": {
              "color": "#E5ECF6",
              "width": 0.5
             },
             "pattern": {
              "fillmode": "overlay",
              "size": 10,
              "solidity": 0.2
             }
            },
            "type": "barpolar"
           }
          ],
          "carpet": [
           {
            "aaxis": {
             "endlinecolor": "#2a3f5f",
             "gridcolor": "white",
             "linecolor": "white",
             "minorgridcolor": "white",
             "startlinecolor": "#2a3f5f"
            },
            "baxis": {
             "endlinecolor": "#2a3f5f",
             "gridcolor": "white",
             "linecolor": "white",
             "minorgridcolor": "white",
             "startlinecolor": "#2a3f5f"
            },
            "type": "carpet"
           }
          ],
          "choropleth": [
           {
            "colorbar": {
             "outlinewidth": 0,
             "ticks": ""
            },
            "type": "choropleth"
           }
          ],
          "contour": [
           {
            "colorbar": {
             "outlinewidth": 0,
             "ticks": ""
            },
            "colorscale": [
             [
              0,
              "#0d0887"
             ],
             [
              0.1111111111111111,
              "#46039f"
             ],
             [
              0.2222222222222222,
              "#7201a8"
             ],
             [
              0.3333333333333333,
              "#9c179e"
             ],
             [
              0.4444444444444444,
              "#bd3786"
             ],
             [
              0.5555555555555556,
              "#d8576b"
             ],
             [
              0.6666666666666666,
              "#ed7953"
             ],
             [
              0.7777777777777778,
              "#fb9f3a"
             ],
             [
              0.8888888888888888,
              "#fdca26"
             ],
             [
              1,
              "#f0f921"
             ]
            ],
            "type": "contour"
           }
          ],
          "contourcarpet": [
           {
            "colorbar": {
             "outlinewidth": 0,
             "ticks": ""
            },
            "type": "contourcarpet"
           }
          ],
          "heatmap": [
           {
            "colorbar": {
             "outlinewidth": 0,
             "ticks": ""
            },
            "colorscale": [
             [
              0,
              "#0d0887"
             ],
             [
              0.1111111111111111,
              "#46039f"
             ],
             [
              0.2222222222222222,
              "#7201a8"
             ],
             [
              0.3333333333333333,
              "#9c179e"
             ],
             [
              0.4444444444444444,
              "#bd3786"
             ],
             [
              0.5555555555555556,
              "#d8576b"
             ],
             [
              0.6666666666666666,
              "#ed7953"
             ],
             [
              0.7777777777777778,
              "#fb9f3a"
             ],
             [
              0.8888888888888888,
              "#fdca26"
             ],
             [
              1,
              "#f0f921"
             ]
            ],
            "type": "heatmap"
           }
          ],
          "histogram": [
           {
            "marker": {
             "pattern": {
              "fillmode": "overlay",
              "size": 10,
              "solidity": 0.2
             }
            },
            "type": "histogram"
           }
          ],
          "histogram2d": [
           {
            "colorbar": {
             "outlinewidth": 0,
             "ticks": ""
            },
            "colorscale": [
             [
              0,
              "#0d0887"
             ],
             [
              0.1111111111111111,
              "#46039f"
             ],
             [
              0.2222222222222222,
              "#7201a8"
             ],
             [
              0.3333333333333333,
              "#9c179e"
             ],
             [
              0.4444444444444444,
              "#bd3786"
             ],
             [
              0.5555555555555556,
              "#d8576b"
             ],
             [
              0.6666666666666666,
              "#ed7953"
             ],
             [
              0.7777777777777778,
              "#fb9f3a"
             ],
             [
              0.8888888888888888,
              "#fdca26"
             ],
             [
              1,
              "#f0f921"
             ]
            ],
            "type": "histogram2d"
           }
          ],
          "histogram2dcontour": [
           {
            "colorbar": {
             "outlinewidth": 0,
             "ticks": ""
            },
            "colorscale": [
             [
              0,
              "#0d0887"
             ],
             [
              0.1111111111111111,
              "#46039f"
             ],
             [
              0.2222222222222222,
              "#7201a8"
             ],
             [
              0.3333333333333333,
              "#9c179e"
             ],
             [
              0.4444444444444444,
              "#bd3786"
             ],
             [
              0.5555555555555556,
              "#d8576b"
             ],
             [
              0.6666666666666666,
              "#ed7953"
             ],
             [
              0.7777777777777778,
              "#fb9f3a"
             ],
             [
              0.8888888888888888,
              "#fdca26"
             ],
             [
              1,
              "#f0f921"
             ]
            ],
            "type": "histogram2dcontour"
           }
          ],
          "mesh3d": [
           {
            "colorbar": {
             "outlinewidth": 0,
             "ticks": ""
            },
            "type": "mesh3d"
           }
          ],
          "parcoords": [
           {
            "line": {
             "colorbar": {
              "outlinewidth": 0,
              "ticks": ""
             }
            },
            "type": "parcoords"
           }
          ],
          "pie": [
           {
            "automargin": true,
            "type": "pie"
           }
          ],
          "scatter": [
           {
            "fillpattern": {
             "fillmode": "overlay",
             "size": 10,
             "solidity": 0.2
            },
            "type": "scatter"
           }
          ],
          "scatter3d": [
           {
            "line": {
             "colorbar": {
              "outlinewidth": 0,
              "ticks": ""
             }
            },
            "marker": {
             "colorbar": {
              "outlinewidth": 0,
              "ticks": ""
             }
            },
            "type": "scatter3d"
           }
          ],
          "scattercarpet": [
           {
            "marker": {
             "colorbar": {
              "outlinewidth": 0,
              "ticks": ""
             }
            },
            "type": "scattercarpet"
           }
          ],
          "scattergeo": [
           {
            "marker": {
             "colorbar": {
              "outlinewidth": 0,
              "ticks": ""
             }
            },
            "type": "scattergeo"
           }
          ],
          "scattergl": [
           {
            "marker": {
             "colorbar": {
              "outlinewidth": 0,
              "ticks": ""
             }
            },
            "type": "scattergl"
           }
          ],
          "scattermap": [
           {
            "marker": {
             "colorbar": {
              "outlinewidth": 0,
              "ticks": ""
             }
            },
            "type": "scattermap"
           }
          ],
          "scattermapbox": [
           {
            "marker": {
             "colorbar": {
              "outlinewidth": 0,
              "ticks": ""
             }
            },
            "type": "scattermapbox"
           }
          ],
          "scatterpolar": [
           {
            "marker": {
             "colorbar": {
              "outlinewidth": 0,
              "ticks": ""
             }
            },
            "type": "scatterpolar"
           }
          ],
          "scatterpolargl": [
           {
            "marker": {
             "colorbar": {
              "outlinewidth": 0,
              "ticks": ""
             }
            },
            "type": "scatterpolargl"
           }
          ],
          "scatterternary": [
           {
            "marker": {
             "colorbar": {
              "outlinewidth": 0,
              "ticks": ""
             }
            },
            "type": "scatterternary"
           }
          ],
          "surface": [
           {
            "colorbar": {
             "outlinewidth": 0,
             "ticks": ""
            },
            "colorscale": [
             [
              0,
              "#0d0887"
             ],
             [
              0.1111111111111111,
              "#46039f"
             ],
             [
              0.2222222222222222,
              "#7201a8"
             ],
             [
              0.3333333333333333,
              "#9c179e"
             ],
             [
              0.4444444444444444,
              "#bd3786"
             ],
             [
              0.5555555555555556,
              "#d8576b"
             ],
             [
              0.6666666666666666,
              "#ed7953"
             ],
             [
              0.7777777777777778,
              "#fb9f3a"
             ],
             [
              0.8888888888888888,
              "#fdca26"
             ],
             [
              1,
              "#f0f921"
             ]
            ],
            "type": "surface"
           }
          ],
          "table": [
           {
            "cells": {
             "fill": {
              "color": "#EBF0F8"
             },
             "line": {
              "color": "white"
             }
            },
            "header": {
             "fill": {
              "color": "#C8D4E3"
             },
             "line": {
              "color": "white"
             }
            },
            "type": "table"
           }
          ]
         },
         "layout": {
          "annotationdefaults": {
           "arrowcolor": "#2a3f5f",
           "arrowhead": 0,
           "arrowwidth": 1
          },
          "autotypenumbers": "strict",
          "coloraxis": {
           "colorbar": {
            "outlinewidth": 0,
            "ticks": ""
           }
          },
          "colorscale": {
           "diverging": [
            [
             0,
             "#8e0152"
            ],
            [
             0.1,
             "#c51b7d"
            ],
            [
             0.2,
             "#de77ae"
            ],
            [
             0.3,
             "#f1b6da"
            ],
            [
             0.4,
             "#fde0ef"
            ],
            [
             0.5,
             "#f7f7f7"
            ],
            [
             0.6,
             "#e6f5d0"
            ],
            [
             0.7,
             "#b8e186"
            ],
            [
             0.8,
             "#7fbc41"
            ],
            [
             0.9,
             "#4d9221"
            ],
            [
             1,
             "#276419"
            ]
           ],
           "sequential": [
            [
             0,
             "#0d0887"
            ],
            [
             0.1111111111111111,
             "#46039f"
            ],
            [
             0.2222222222222222,
             "#7201a8"
            ],
            [
             0.3333333333333333,
             "#9c179e"
            ],
            [
             0.4444444444444444,
             "#bd3786"
            ],
            [
             0.5555555555555556,
             "#d8576b"
            ],
            [
             0.6666666666666666,
             "#ed7953"
            ],
            [
             0.7777777777777778,
             "#fb9f3a"
            ],
            [
             0.8888888888888888,
             "#fdca26"
            ],
            [
             1,
             "#f0f921"
            ]
           ],
           "sequentialminus": [
            [
             0,
             "#0d0887"
            ],
            [
             0.1111111111111111,
             "#46039f"
            ],
            [
             0.2222222222222222,
             "#7201a8"
            ],
            [
             0.3333333333333333,
             "#9c179e"
            ],
            [
             0.4444444444444444,
             "#bd3786"
            ],
            [
             0.5555555555555556,
             "#d8576b"
            ],
            [
             0.6666666666666666,
             "#ed7953"
            ],
            [
             0.7777777777777778,
             "#fb9f3a"
            ],
            [
             0.8888888888888888,
             "#fdca26"
            ],
            [
             1,
             "#f0f921"
            ]
           ]
          },
          "colorway": [
           "#636efa",
           "#EF553B",
           "#00cc96",
           "#ab63fa",
           "#FFA15A",
           "#19d3f3",
           "#FF6692",
           "#B6E880",
           "#FF97FF",
           "#FECB52"
          ],
          "font": {
           "color": "#2a3f5f"
          },
          "geo": {
           "bgcolor": "white",
           "lakecolor": "white",
           "landcolor": "#E5ECF6",
           "showlakes": true,
           "showland": true,
           "subunitcolor": "white"
          },
          "hoverlabel": {
           "align": "left"
          },
          "hovermode": "closest",
          "mapbox": {
           "style": "light"
          },
          "paper_bgcolor": "white",
          "plot_bgcolor": "#E5ECF6",
          "polar": {
           "angularaxis": {
            "gridcolor": "white",
            "linecolor": "white",
            "ticks": ""
           },
           "bgcolor": "#E5ECF6",
           "radialaxis": {
            "gridcolor": "white",
            "linecolor": "white",
            "ticks": ""
           }
          },
          "scene": {
           "xaxis": {
            "backgroundcolor": "#E5ECF6",
            "gridcolor": "white",
            "gridwidth": 2,
            "linecolor": "white",
            "showbackground": true,
            "ticks": "",
            "zerolinecolor": "white"
           },
           "yaxis": {
            "backgroundcolor": "#E5ECF6",
            "gridcolor": "white",
            "gridwidth": 2,
            "linecolor": "white",
            "showbackground": true,
            "ticks": "",
            "zerolinecolor": "white"
           },
           "zaxis": {
            "backgroundcolor": "#E5ECF6",
            "gridcolor": "white",
            "gridwidth": 2,
            "linecolor": "white",
            "showbackground": true,
            "ticks": "",
            "zerolinecolor": "white"
           }
          },
          "shapedefaults": {
           "line": {
            "color": "#2a3f5f"
           }
          },
          "ternary": {
           "aaxis": {
            "gridcolor": "white",
            "linecolor": "white",
            "ticks": ""
           },
           "baxis": {
            "gridcolor": "white",
            "linecolor": "white",
            "ticks": ""
           },
           "bgcolor": "#E5ECF6",
           "caxis": {
            "gridcolor": "white",
            "linecolor": "white",
            "ticks": ""
           }
          },
          "title": {
           "x": 0.05
          },
          "xaxis": {
           "automargin": true,
           "gridcolor": "white",
           "linecolor": "white",
           "ticks": "",
           "title": {
            "standoff": 15
           },
           "zerolinecolor": "white",
           "zerolinewidth": 2
          },
          "yaxis": {
           "automargin": true,
           "gridcolor": "white",
           "linecolor": "white",
           "ticks": "",
           "title": {
            "standoff": 15
           },
           "zerolinecolor": "white",
           "zerolinewidth": 2
          }
         }
        },
        "xaxis": {
         "anchor": "y",
         "domain": [
          0,
          1
         ],
         "title": {
          "text": "index"
         }
        },
        "yaxis": {
         "anchor": "x",
         "domain": [
          0,
          1
         ],
         "title": {
          "text": "value"
         }
        }
       }
      },
      "image/png": "[encoded data removed]"
     },
     "metadata": {},
     "output_type": "display_data"
    }
   ],
   "source": [
    "px.line(df['seizure_log'])"
   ]
  },
  {
   "cell_type": "code",
   "execution_count": 16,
   "id": "919049e1-1f45-4e9c-8421-d5d4714380e6",
   "metadata": {},
   "outputs": [],
   "source": [
    "df['seizure_diff'] = df['seizure'].diff()"
   ]
  },
  {
   "cell_type": "code",
   "execution_count": 18,
   "id": "f06d5a29-f178-4cc1-9ae6-f9e6fd32e75f",
   "metadata": {},
   "outputs": [
    {
     "data": {
      "application/vnd.plotly.v1+json": {
       "config": {
        "plotlyServerURL": "https://plot.ly"
       },
       "data": [
        {
         "hovertemplate": "x=%{x}<br>y=%{y}<extra></extra>",
         "legendgroup": "",
         "line": {
          "color": "#636efa",
          "dash": "solid"
         },
         "marker": {
          "symbol": "circle"
         },
         "mode": "lines",
         "name": "",
         "orientation": "v",
         "showlegend": false,
         "type": "scatter",
         "x": [
          "2001-02-01",
          "2001-03-01",
          "2001-04-01",
          "2001-05-01",
          "2001-06-01",
          "2001-07-01",
          "2001-08-01",
          "2001-09-01",
          "2001-10-01",
          "2001-11-01",
          "2001-12-01",
          "2002-01-01",
          "2002-02-01",
          "2002-03-01",
          "2002-04-01",
          "2002-05-01",
          "2002-06-01",
          "2002-07-01",
          "2002-08-01",
          "2002-09-01",
          "2002-10-01",
          "2002-11-01",
          "2002-12-01",
          "2003-01-01",
          "2003-02-01",
          "2003-03-01",
          "2003-04-01",
          "2003-05-01",
          "2003-06-01",
          "2003-07-01",
          "2003-08-01",
          "2003-09-01",
          "2003-10-01",
          "2003-11-01",
          "2003-12-01",
          "2004-01-01",
          "2004-02-01",
          "2004-03-01",
          "2004-04-01",
          "2004-05-01",
          "2004-06-01",
          "2004-07-01",
          "2004-08-01",
          "2004-09-01",
          "2004-10-01",
          "2004-11-01",
          "2004-12-01",
          "2005-01-01",
          "2005-02-01",
          "2005-03-01",
          "2005-04-01",
          "2005-05-01",
          "2005-06-01",
          "2005-07-01",
          "2005-08-01",
          "2005-09-01",
          "2005-10-01",
          "2005-11-01",
          "2005-12-01",
          "2006-01-01",
          "2006-02-01",
          "2006-03-01",
          "2006-04-01",
          "2006-05-01",
          "2006-06-01",
          "2006-07-01",
          "2006-08-01",
          "2006-09-01",
          "2006-10-01",
          "2006-11-01",
          "2006-12-01",
          "2007-01-01",
          "2007-02-01",
          "2007-03-01",
          "2007-04-01",
          "2007-05-01",
          "2007-06-01",
          "2007-07-01",
          "2007-08-01",
          "2007-09-01",
          "2007-10-01",
          "2007-11-01",
          "2007-12-01",
          "2008-01-01",
          "2008-02-01",
          "2008-03-01",
          "2008-04-01",
          "2008-05-01",
          "2008-06-01",
          "2008-07-01",
          "2008-08-01",
          "2008-09-01",
          "2008-10-01",
          "2008-11-01",
          "2008-12-01",
          "2009-01-01",
          "2009-02-01",
          "2009-03-01",
          "2009-04-01",
          "2009-05-01",
          "2009-06-01",
          "2009-07-01",
          "2009-08-01",
          "2009-09-01",
          "2009-10-01",
          "2009-11-01",
          "2009-12-01",
          "2010-01-01",
          "2010-02-01",
          "2010-03-01",
          "2010-04-01",
          "2010-05-01",
          "2010-06-01",
          "2010-07-01",
          "2010-08-01",
          "2010-09-01",
          "2010-10-01",
          "2010-11-01",
          "2010-12-01",
          "2011-01-01",
          "2011-02-01",
          "2011-03-01",
          "2011-04-01",
          "2011-05-01",
          "2011-06-01",
          "2011-07-01",
          "2011-08-01",
          "2011-09-01",
          "2011-10-01",
          "2011-11-01",
          "2011-12-01",
          "2012-01-01",
          "2012-02-01",
          "2012-03-01",
          "2012-04-01",
          "2012-05-01",
          "2012-06-01",
          "2012-07-01",
          "2012-08-01",
          "2012-09-01",
          "2012-10-01",
          "2012-11-01",
          "2012-12-01",
          "2013-01-01",
          "2013-02-01",
          "2013-03-01",
          "2013-04-01",
          "2013-05-01",
          "2013-06-01",
          "2013-07-01",
          "2013-08-01",
          "2013-09-01",
          "2013-10-01",
          "2013-11-01",
          "2013-12-01",
          "2014-01-01",
          "2014-02-01",
          "2014-03-01",
          "2014-04-01",
          "2014-05-01",
          "2014-06-01",
          "2014-07-01",
          "2014-08-01",
          "2014-09-01",
          "2014-10-01",
          "2014-11-01",
          "2014-12-01",
          "2015-01-01",
          "2015-02-01",
          "2015-03-01",
          "2015-04-01",
          "2015-05-01",
          "2015-06-01",
          "2015-07-01",
          "2015-08-01",
          "2015-09-01",
          "2015-10-01",
          "2015-11-01",
          "2015-12-01",
          "2016-01-01",
          "2016-02-01",
          "2016-03-01",
          "2016-04-01",
          "2016-05-01",
          "2016-06-01",
          "2016-07-01",
          "2016-08-01",
          "2016-09-01",
          "2016-10-01",
          "2016-11-01",
          "2016-12-01",
          "2017-01-01",
          "2017-02-01",
          "2017-03-01",
          "2017-04-01",
          "2017-05-01",
          "2017-06-01",
          "2017-07-01",
          "2017-08-01",
          "2017-09-01",
          "2017-10-01",
          "2017-11-01",
          "2017-12-01",
          "2018-01-01",
          "2018-02-01",
          "2018-03-01",
          "2018-04-01",
          "2018-05-01",
          "2018-06-01",
          "2018-07-01",
          "2018-08-01",
          "2018-09-01",
          "2018-10-01",
          "2018-11-01",
          "2018-12-01",
          "2019-01-01",
          "2019-02-01",
          "2019-03-01",
          "2019-04-01",
          "2019-05-01",
          "2019-06-01",
          "2019-07-01",
          "2019-08-01",
          "2019-09-01",
          "2019-10-01",
          "2019-11-01",
          "2019-12-01",
          "2020-01-01",
          "2020-02-01",
          "2020-03-01",
          "2020-04-01",
          "2020-05-01",
          "2020-06-01",
          "2020-07-01",
          "2020-08-01",
          "2020-09-01",
          "2020-10-01",
          "2020-11-01",
          "2020-12-01",
          "2021-01-01",
          "2021-02-01",
          "2021-03-01",
          "2021-04-01",
          "2021-05-01",
          "2021-06-01",
          "2021-07-01",
          "2021-08-01",
          "2021-09-01",
          "2021-10-01",
          "2021-11-01",
          "2021-12-01",
          "2022-01-01",
          "2022-02-01",
          "2022-03-01",
          "2022-04-01",
          "2022-05-01",
          "2022-06-01",
          "2022-07-01",
          "2022-08-01",
          "2022-09-01",
          "2022-10-01",
          "2022-11-01",
          "2022-12-01",
          "2023-01-01",
          "2023-02-01",
          "2023-03-01",
          "2023-04-01",
          "2023-05-01",
          "2023-06-01",
          "2023-07-01",
          "2023-08-01",
          "2023-09-01",
          "2023-10-01",
          "2023-11-01",
          "2023-12-01",
          "2024-01-01",
          "2024-02-01",
          "2024-03-01",
          "2024-04-01",
          "2024-05-01",
          "2024-06-01",
          "2024-07-01",
          "2024-08-01",
          "2024-09-01",
          "2024-10-01",
          "2024-11-01",
          "2024-12-01",
          "2025-01-01",
          "2025-02-01",
          "2025-03-01",
          "2025-04-01",
          "2025-05-01",
          "2025-06-01"
         ],
         "xaxis": "x",
         "y": {
          "bdata": "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",
          "dtype": "f8"
         },
         "yaxis": "y"
        }
       ],
       "layout": {
        "legend": {
         "tracegroupgap": 0
        },
        "margin": {
         "t": 60
        },
        "template": {
         "data": {
          "bar": [
           {
            "error_x": {
             "color": "#2a3f5f"
            },
            "error_y": {
             "color": "#2a3f5f"
            },
            "marker": {
             "line": {
              "color": "#E5ECF6",
              "width": 0.5
             },
             "pattern": {
              "fillmode": "overlay",
              "size": 10,
              "solidity": 0.2
             }
            },
            "type": "bar"
           }
          ],
          "barpolar": [
           {
            "marker": {
             "line": {
              "color": "#E5ECF6",
              "width": 0.5
             },
             "pattern": {
              "fillmode": "overlay",
              "size": 10,
              "solidity": 0.2
             }
            },
            "type": "barpolar"
           }
          ],
          "carpet": [
           {
            "aaxis": {
             "endlinecolor": "#2a3f5f",
             "gridcolor": "white",
             "linecolor": "white",
             "minorgridcolor": "white",
             "startlinecolor": "#2a3f5f"
            },
            "baxis": {
             "endlinecolor": "#2a3f5f",
             "gridcolor": "white",
             "linecolor": "white",
             "minorgridcolor": "white",
             "startlinecolor": "#2a3f5f"
            },
            "type": "carpet"
           }
          ],
          "choropleth": [
           {
            "colorbar": {
             "outlinewidth": 0,
             "ticks": ""
            },
            "type": "choropleth"
           }
          ],
          "contour": [
           {
            "colorbar": {
             "outlinewidth": 0,
             "ticks": ""
            },
            "colorscale": [
             [
              0,
              "#0d0887"
             ],
             [
              0.1111111111111111,
              "#46039f"
             ],
             [
              0.2222222222222222,
              "#7201a8"
             ],
             [
              0.3333333333333333,
              "#9c179e"
             ],
             [
              0.4444444444444444,
              "#bd3786"
             ],
             [
              0.5555555555555556,
              "#d8576b"
             ],
             [
              0.6666666666666666,
              "#ed7953"
             ],
             [
              0.7777777777777778,
              "#fb9f3a"
             ],
             [
              0.8888888888888888,
              "#fdca26"
             ],
             [
              1,
              "#f0f921"
             ]
            ],
            "type": "contour"
           }
          ],
          "contourcarpet": [
           {
            "colorbar": {
             "outlinewidth": 0,
             "ticks": ""
            },
            "type": "contourcarpet"
           }
          ],
          "heatmap": [
           {
            "colorbar": {
             "outlinewidth": 0,
             "ticks": ""
            },
            "colorscale": [
             [
              0,
              "#0d0887"
             ],
             [
              0.1111111111111111,
              "#46039f"
             ],
             [
              0.2222222222222222,
              "#7201a8"
             ],
             [
              0.3333333333333333,
              "#9c179e"
             ],
             [
              0.4444444444444444,
              "#bd3786"
             ],
             [
              0.5555555555555556,
              "#d8576b"
             ],
             [
              0.6666666666666666,
              "#ed7953"
             ],
             [
              0.7777777777777778,
              "#fb9f3a"
             ],
             [
              0.8888888888888888,
              "#fdca26"
             ],
             [
              1,
              "#f0f921"
             ]
            ],
            "type": "heatmap"
           }
          ],
          "histogram": [
           {
            "marker": {
             "pattern": {
              "fillmode": "overlay",
              "size": 10,
              "solidity": 0.2
             }
            },
            "type": "histogram"
           }
          ],
          "histogram2d": [
           {
            "colorbar": {
             "outlinewidth": 0,
             "ticks": ""
            },
            "colorscale": [
             [
              0,
              "#0d0887"
             ],
             [
              0.1111111111111111,
              "#46039f"
             ],
             [
              0.2222222222222222,
              "#7201a8"
             ],
             [
              0.3333333333333333,
              "#9c179e"
             ],
             [
              0.4444444444444444,
              "#bd3786"
             ],
             [
              0.5555555555555556,
              "#d8576b"
             ],
             [
              0.6666666666666666,
              "#ed7953"
             ],
             [
              0.7777777777777778,
              "#fb9f3a"
             ],
             [
              0.8888888888888888,
              "#fdca26"
             ],
             [
              1,
              "#f0f921"
             ]
            ],
            "type": "histogram2d"
           }
          ],
          "histogram2dcontour": [
           {
            "colorbar": {
             "outlinewidth": 0,
             "ticks": ""
            },
            "colorscale": [
             [
              0,
              "#0d0887"
             ],
             [
              0.1111111111111111,
              "#46039f"
             ],
             [
              0.2222222222222222,
              "#7201a8"
             ],
             [
              0.3333333333333333,
              "#9c179e"
             ],
             [
              0.4444444444444444,
              "#bd3786"
             ],
             [
              0.5555555555555556,
              "#d8576b"
             ],
             [
              0.6666666666666666,
              "#ed7953"
             ],
             [
              0.7777777777777778,
              "#fb9f3a"
             ],
             [
              0.8888888888888888,
              "#fdca26"
             ],
             [
              1,
              "#f0f921"
             ]
            ],
            "type": "histogram2dcontour"
           }
          ],
          "mesh3d": [
           {
            "colorbar": {
             "outlinewidth": 0,
             "ticks": ""
            },
            "type": "mesh3d"
           }
          ],
          "parcoords": [
           {
            "line": {
             "colorbar": {
              "outlinewidth": 0,
              "ticks": ""
             }
            },
            "type": "parcoords"
           }
          ],
          "pie": [
           {
            "automargin": true,
            "type": "pie"
           }
          ],
          "scatter": [
           {
            "fillpattern": {
             "fillmode": "overlay",
             "size": 10,
             "solidity": 0.2
            },
            "type": "scatter"
           }
          ],
          "scatter3d": [
           {
            "line": {
             "colorbar": {
              "outlinewidth": 0,
              "ticks": ""
             }
            },
            "marker": {
             "colorbar": {
              "outlinewidth": 0,
              "ticks": ""
             }
            },
            "type": "scatter3d"
           }
          ],
          "scattercarpet": [
           {
            "marker": {
             "colorbar": {
              "outlinewidth": 0,
              "ticks": ""
             }
            },
            "type": "scattercarpet"
           }
          ],
          "scattergeo": [
           {
            "marker": {
             "colorbar": {
              "outlinewidth": 0,
              "ticks": ""
             }
            },
            "type": "scattergeo"
           }
          ],
          "scattergl": [
           {
            "marker": {
             "colorbar": {
              "outlinewidth": 0,
              "ticks": ""
             }
            },
            "type": "scattergl"
           }
          ],
          "scattermap": [
           {
            "marker": {
             "colorbar": {
              "outlinewidth": 0,
              "ticks": ""
             }
            },
            "type": "scattermap"
           }
          ],
          "scattermapbox": [
           {
            "marker": {
             "colorbar": {
              "outlinewidth": 0,
              "ticks": ""
             }
            },
            "type": "scattermapbox"
           }
          ],
          "scatterpolar": [
           {
            "marker": {
             "colorbar": {
              "outlinewidth": 0,
              "ticks": ""
             }
            },
            "type": "scatterpolar"
           }
          ],
          "scatterpolargl": [
           {
            "marker": {
             "colorbar": {
              "outlinewidth": 0,
              "ticks": ""
             }
            },
            "type": "scatterpolargl"
           }
          ],
          "scatterternary": [
           {
            "marker": {
             "colorbar": {
              "outlinewidth": 0,
              "ticks": ""
             }
            },
            "type": "scatterternary"
           }
          ],
          "surface": [
           {
            "colorbar": {
             "outlinewidth": 0,
             "ticks": ""
            },
            "colorscale": [
             [
              0,
              "#0d0887"
             ],
             [
              0.1111111111111111,
              "#46039f"
             ],
             [
              0.2222222222222222,
              "#7201a8"
             ],
             [
              0.3333333333333333,
              "#9c179e"
             ],
             [
              0.4444444444444444,
              "#bd3786"
             ],
             [
              0.5555555555555556,
              "#d8576b"
             ],
             [
              0.6666666666666666,
              "#ed7953"
             ],
             [
              0.7777777777777778,
              "#fb9f3a"
             ],
             [
              0.8888888888888888,
              "#fdca26"
             ],
             [
              1,
              "#f0f921"
             ]
            ],
            "type": "surface"
           }
          ],
          "table": [
           {
            "cells": {
             "fill": {
              "color": "#EBF0F8"
             },
             "line": {
              "color": "white"
             }
            },
            "header": {
             "fill": {
              "color": "#C8D4E3"
             },
             "line": {
              "color": "white"
             }
            },
            "type": "table"
           }
          ]
         },
         "layout": {
          "annotationdefaults": {
           "arrowcolor": "#2a3f5f",
           "arrowhead": 0,
           "arrowwidth": 1
          },
          "autotypenumbers": "strict",
          "coloraxis": {
           "colorbar": {
            "outlinewidth": 0,
            "ticks": ""
           }
          },
          "colorscale": {
           "diverging": [
            [
             0,
             "#8e0152"
            ],
            [
             0.1,
             "#c51b7d"
            ],
            [
             0.2,
             "#de77ae"
            ],
            [
             0.3,
             "#f1b6da"
            ],
            [
             0.4,
             "#fde0ef"
            ],
            [
             0.5,
             "#f7f7f7"
            ],
            [
             0.6,
             "#e6f5d0"
            ],
            [
             0.7,
             "#b8e186"
            ],
            [
             0.8,
             "#7fbc41"
            ],
            [
             0.9,
             "#4d9221"
            ],
            [
             1,
             "#276419"
            ]
           ],
           "sequential": [
            [
             0,
             "#0d0887"
            ],
            [
             0.1111111111111111,
             "#46039f"
            ],
            [
             0.2222222222222222,
             "#7201a8"
            ],
            [
             0.3333333333333333,
             "#9c179e"
            ],
            [
             0.4444444444444444,
             "#bd3786"
            ],
            [
             0.5555555555555556,
             "#d8576b"
            ],
            [
             0.6666666666666666,
             "#ed7953"
            ],
            [
             0.7777777777777778,
             "#fb9f3a"
            ],
            [
             0.8888888888888888,
             "#fdca26"
            ],
            [
             1,
             "#f0f921"
            ]
           ],
           "sequentialminus": [
            [
             0,
             "#0d0887"
            ],
            [
             0.1111111111111111,
             "#46039f"
            ],
            [
             0.2222222222222222,
             "#7201a8"
            ],
            [
             0.3333333333333333,
             "#9c179e"
            ],
            [
             0.4444444444444444,
             "#bd3786"
            ],
            [
             0.5555555555555556,
             "#d8576b"
            ],
            [
             0.6666666666666666,
             "#ed7953"
            ],
            [
             0.7777777777777778,
             "#fb9f3a"
            ],
            [
             0.8888888888888888,
             "#fdca26"
            ],
            [
             1,
             "#f0f921"
            ]
           ]
          },
          "colorway": [
           "#636efa",
           "#EF553B",
           "#00cc96",
           "#ab63fa",
           "#FFA15A",
           "#19d3f3",
           "#FF6692",
           "#B6E880",
           "#FF97FF",
           "#FECB52"
          ],
          "font": {
           "color": "#2a3f5f"
          },
          "geo": {
           "bgcolor": "white",
           "lakecolor": "white",
           "landcolor": "#E5ECF6",
           "showlakes": true,
           "showland": true,
           "subunitcolor": "white"
          },
          "hoverlabel": {
           "align": "left"
          },
          "hovermode": "closest",
          "mapbox": {
           "style": "light"
          },
          "paper_bgcolor": "white",
          "plot_bgcolor": "#E5ECF6",
          "polar": {
           "angularaxis": {
            "gridcolor": "white",
            "linecolor": "white",
            "ticks": ""
           },
           "bgcolor": "#E5ECF6",
           "radialaxis": {
            "gridcolor": "white",
            "linecolor": "white",
            "ticks": ""
           }
          },
          "scene": {
           "xaxis": {
            "backgroundcolor": "#E5ECF6",
            "gridcolor": "white",
            "gridwidth": 2,
            "linecolor": "white",
            "showbackground": true,
            "ticks": "",
            "zerolinecolor": "white"
           },
           "yaxis": {
            "backgroundcolor": "#E5ECF6",
            "gridcolor": "white",
            "gridwidth": 2,
            "linecolor": "white",
            "showbackground": true,
            "ticks": "",
            "zerolinecolor": "white"
           },
           "zaxis": {
            "backgroundcolor": "#E5ECF6",
            "gridcolor": "white",
            "gridwidth": 2,
            "linecolor": "white",
            "showbackground": true,
            "ticks": "",
            "zerolinecolor": "white"
           }
          },
          "shapedefaults": {
           "line": {
            "color": "#2a3f5f"
           }
          },
          "ternary": {
           "aaxis": {
            "gridcolor": "white",
            "linecolor": "white",
            "ticks": ""
           },
           "baxis": {
            "gridcolor": "white",
            "linecolor": "white",
            "ticks": ""
           },
           "bgcolor": "#E5ECF6",
           "caxis": {
            "gridcolor": "white",
            "linecolor": "white",
            "ticks": ""
           }
          },
          "title": {
           "x": 0.05
          },
          "xaxis": {
           "automargin": true,
           "gridcolor": "white",
           "linecolor": "white",
           "ticks": "",
           "title": {
            "standoff": 15
           },
           "zerolinecolor": "white",
           "zerolinewidth": 2
          },
          "yaxis": {
           "automargin": true,
           "gridcolor": "white",
           "linecolor": "white",
           "ticks": "",
           "title": {
            "standoff": 15
           },
           "zerolinecolor": "white",
           "zerolinewidth": 2
          }
         }
        },
        "xaxis": {
         "anchor": "y",
         "domain": [
          0,
          1
         ],
         "title": {
          "text": "x"
         }
        },
        "yaxis": {
         "anchor": "x",
         "domain": [
          0,
          1
         ],
         "title": {
          "text": "y"
         }
        }
       }
      },
      "image/png": "[encoded data removed]"
     },
     "metadata": {},
     "output_type": "display_data"
    }
   ],
   "source": [
    "px.line(x=df['date'], y=df['seizure_diff'])"
   ]
  },
  {
   "cell_type": "code",
   "execution_count": 20,
   "id": "3f7d84cd-c774-4270-9e90-0cede3205c37",
   "metadata": {},
   "outputs": [
    {
     "data": {
      "text/html": [
       "<div>\n",
       "<style scoped>\n",
       "    .dataframe tbody tr th:only-of-type {\n",
       "        vertical-align: middle;\n",
       "    }\n",
       "\n",
       "    .dataframe tbody tr th {\n",
       "        vertical-align: top;\n",
       "    }\n",
       "\n",
       "    .dataframe thead th {\n",
       "        text-align: right;\n",
       "    }\n",
       "</style>\n",
       "<table border=\"1\" class=\"dataframe\">\n",
       "  <thead>\n",
       "    <tr style=\"text-align: right;\">\n",
       "      <th></th>\n",
       "      <th>date</th>\n",
       "      <th>seizure</th>\n",
       "      <th>HK_exports_to_Korea_logdiff</th>\n",
       "      <th>seizure_log</th>\n",
       "      <th>seizure_diff</th>\n",
       "    </tr>\n",
       "  </thead>\n",
       "  <tbody>\n",
       "    <tr>\n",
       "      <th>264</th>\n",
       "      <td>2023-02-01</td>\n",
       "      <td>37372.0</td>\n",
       "      <td>0.198316</td>\n",
       "      <td>10.528677</td>\n",
       "      <td>-29943.0</td>\n",
       "    </tr>\n",
       "  </tbody>\n",
       "</table>\n",
       "</div>"
      ],
      "text/plain": [
       "           date  seizure  HK_exports_to_Korea_logdiff  seizure_log  \\\n",
       "264  2023-02-01  37372.0                     0.198316    10.528677   \n",
       "\n",
       "     seizure_diff  \n",
       "264      -29943.0  "
      ]
     },
     "execution_count": 20,
     "metadata": {},
     "output_type": "execute_result"
    }
   ],
   "source": [
    "df.loc[df['date']=='2023-02-01']"
   ]
  },
  {
   "cell_type": "code",
   "execution_count": 24,
   "id": "da492a51-ddc7-4a8c-8cae-55086020c55f",
   "metadata": {},
   "outputs": [
    {
     "name": "stdout",
     "output_type": "stream",
     "text": [
      "Column: seizure_diff\n",
      "Test statistic: -8.420060302230098\n",
      "p-value: 1.9947378606973555e-13\n",
      "The time series is stationary\n",
      "\n"
     ]
    }
   ],
   "source": [
    "from statsmodels.tsa.stattools import adfuller\n",
    "col='seizure_diff'\n",
    "result = adfuller(df[col].iloc[1:])\n",
    "print(f'Column: {col}')\n",
    "print(f'Test statistic: {result[0]}')\n",
    "print(f'p-value: {result[1]}')\n",
    "if result[1] < 0.05:\n",
    "    print('The time series is stationary')\n",
    "else:\n",
    "    print('The time series is non-stationary')\n",
    "print()"
   ]
  },
  {
   "cell_type": "code",
   "execution_count": 25,
   "id": "3ca3cc2b-b3db-4b1d-8324-0efb5b92f3e3",
   "metadata": {},
   "outputs": [
    {
     "name": "stdout",
     "output_type": "stream",
     "text": [
      "Column: seizure_log\n",
      "Test statistic: -1.6479331676700506\n",
      "p-value: 0.4581185608730337\n",
      "The time series is non-stationary\n",
      "\n"
     ]
    }
   ],
   "source": [
    "from statsmodels.tsa.stattools import adfuller\n",
    "col='seizure_log'\n",
    "result = adfuller(df[col].iloc[1:])\n",
    "print(f'Column: {col}')\n",
    "print(f'Test statistic: {result[0]}')\n",
    "print(f'p-value: {result[1]}')\n",
    "if result[1] < 0.05:\n",
    "    print('The time series is stationary')\n",
    "else:\n",
    "    print('The time series is non-stationary')\n",
    "print()"
   ]
  },
  {
   "cell_type": "code",
   "execution_count": 39,
   "id": "4172f516-54a6-4015-81cc-0cc8f7ec1ea5",
   "metadata": {},
   "outputs": [
    {
     "name": "stdout",
     "output_type": "stream",
     "text": [
      "           date      seizure  HK_exports_to_Korea_logdiff  seizure_log  \\\n",
      "250  2021-12-01  8776.215017                     0.102139    12.924534   \n",
      "\n",
      "     seizure_diff  \n",
      "250      380665.0  \n"
     ]
    },
    {
     "data": {
      "application/vnd.plotly.v1+json": {
       "config": {
        "plotlyServerURL": "https://plot.ly"
       },
       "data": [
        {
         "hovertemplate": "x=%{x}<br>y=%{y}<extra></extra>",
         "legendgroup": "",
         "line": {
          "color": "#636efa",
          "dash": "solid"
         },
         "marker": {
          "symbol": "circle"
         },
         "mode": "lines",
         "name": "",
         "orientation": "v",
         "showlegend": false,
         "type": "scatter",
         "x": [
          "2001-02-01",
          "2001-03-01",
          "2001-04-01",
          "2001-05-01",
          "2001-06-01",
          "2001-07-01",
          "2001-08-01",
          "2001-09-01",
          "2001-10-01",
          "2001-11-01",
          "2001-12-01",
          "2002-01-01",
          "2002-02-01",
          "2002-03-01",
          "2002-04-01",
          "2002-05-01",
          "2002-06-01",
          "2002-07-01",
          "2002-08-01",
          "2002-09-01",
          "2002-10-01",
          "2002-11-01",
          "2002-12-01",
          "2003-01-01",
          "2003-02-01",
          "2003-03-01",
          "2003-04-01",
          "2003-05-01",
          "2003-06-01",
          "2003-07-01",
          "2003-08-01",
          "2003-09-01",
          "2003-10-01",
          "2003-11-01",
          "2003-12-01",
          "2004-01-01",
          "2004-02-01",
          "2004-03-01",
          "2004-04-01",
          "2004-05-01",
          "2004-06-01",
          "2004-07-01",
          "2004-08-01",
          "2004-09-01",
          "2004-10-01",
          "2004-11-01",
          "2004-12-01",
          "2005-01-01",
          "2005-02-01",
          "2005-03-01",
          "2005-04-01",
          "2005-05-01",
          "2005-06-01",
          "2005-07-01",
          "2005-08-01",
          "2005-09-01",
          "2005-10-01",
          "2005-11-01",
          "2005-12-01",
          "2006-01-01",
          "2006-02-01",
          "2006-03-01",
          "2006-04-01",
          "2006-05-01",
          "2006-06-01",
          "2006-07-01",
          "2006-08-01",
          "2006-09-01",
          "2006-10-01",
          "2006-11-01",
          "2006-12-01",
          "2007-01-01",
          "2007-02-01",
          "2007-03-01",
          "2007-04-01",
          "2007-05-01",
          "2007-06-01",
          "2007-07-01",
          "2007-08-01",
          "2007-09-01",
          "2007-10-01",
          "2007-11-01",
          "2007-12-01",
          "2008-01-01",
          "2008-02-01",
          "2008-03-01",
          "2008-04-01",
          "2008-05-01",
          "2008-06-01",
          "2008-07-01",
          "2008-08-01",
          "2008-09-01",
          "2008-10-01",
          "2008-11-01",
          "2008-12-01",
          "2009-01-01",
          "2009-02-01",
          "2009-03-01",
          "2009-04-01",
          "2009-05-01",
          "2009-06-01",
          "2009-07-01",
          "2009-08-01",
          "2009-09-01",
          "2009-10-01",
          "2009-11-01",
          "2009-12-01",
          "2010-01-01",
          "2010-02-01",
          "2010-03-01",
          "2010-04-01",
          "2010-05-01",
          "2010-06-01",
          "2010-07-01",
          "2010-08-01",
          "2010-09-01",
          "2010-10-01",
          "2010-11-01",
          "2010-12-01",
          "2011-01-01",
          "2011-02-01",
          "2011-03-01",
          "2011-04-01",
          "2011-05-01",
          "2011-06-01",
          "2011-07-01",
          "2011-08-01",
          "2011-09-01",
          "2011-10-01",
          "2011-11-01",
          "2011-12-01",
          "2012-01-01",
          "2012-02-01",
          "2012-03-01",
          "2012-04-01",
          "2012-05-01",
          "2012-06-01",
          "2012-07-01",
          "2012-08-01",
          "2012-09-01",
          "2012-10-01",
          "2012-11-01",
          "2012-12-01",
          "2013-01-01",
          "2013-02-01",
          "2013-03-01",
          "2013-04-01",
          "2013-05-01",
          "2013-06-01",
          "2013-07-01",
          "2013-08-01",
          "2013-09-01",
          "2013-10-01",
          "2013-11-01",
          "2013-12-01",
          "2014-01-01",
          "2014-02-01",
          "2014-03-01",
          "2014-04-01",
          "2014-05-01",
          "2014-06-01",
          "2014-07-01",
          "2014-08-01",
          "2014-09-01",
          "2014-10-01",
          "2014-11-01",
          "2014-12-01",
          "2015-01-01",
          "2015-02-01",
          "2015-03-01",
          "2015-04-01",
          "2015-05-01",
          "2015-06-01",
          "2015-07-01",
          "2015-08-01",
          "2015-09-01",
          "2015-10-01",
          "2015-11-01",
          "2015-12-01",
          "2016-01-01",
          "2016-02-01",
          "2016-03-01",
          "2016-04-01",
          "2016-05-01",
          "2016-06-01",
          "2016-07-01",
          "2016-08-01",
          "2016-09-01",
          "2016-10-01",
          "2016-11-01",
          "2016-12-01",
          "2017-01-01",
          "2017-02-01",
          "2017-03-01",
          "2017-04-01",
          "2017-05-01",
          "2017-06-01",
          "2017-07-01",
          "2017-08-01",
          "2017-09-01",
          "2017-10-01",
          "2017-11-01",
          "2017-12-01",
          "2018-01-01",
          "2018-02-01",
          "2018-03-01",
          "2018-04-01",
          "2018-05-01",
          "2018-06-01",
          "2018-07-01",
          "2018-08-01",
          "2018-09-01",
          "2018-10-01",
          "2018-11-01",
          "2018-12-01",
          "2019-01-01",
          "2019-02-01",
          "2019-03-01",
          "2019-04-01",
          "2019-05-01",
          "2019-06-01",
          "2019-07-01",
          "2019-08-01",
          "2019-09-01",
          "2019-10-01",
          "2019-11-01",
          "2019-12-01",
          "2020-01-01",
          "2020-02-01",
          "2020-03-01",
          "2020-04-01",
          "2020-05-01",
          "2020-06-01",
          "2020-07-01",
          "2020-08-01",
          "2020-09-01",
          "2020-10-01",
          "2020-11-01",
          "2020-12-01",
          "2021-01-01",
          "2021-02-01",
          "2021-03-01",
          "2021-04-01",
          "2021-05-01",
          "2021-06-01",
          "2021-07-01",
          "2021-08-01",
          "2021-09-01",
          "2021-10-01",
          "2021-11-01",
          "2021-12-01",
          "2022-01-01",
          "2022-02-01",
          "2022-03-01",
          "2022-04-01",
          "2022-05-01",
          "2022-06-01",
          "2022-07-01",
          "2022-08-01",
          "2022-09-01",
          "2022-10-01",
          "2022-11-01",
          "2022-12-01",
          "2023-01-01",
          "2023-02-01",
          "2023-03-01",
          "2023-04-01",
          "2023-05-01",
          "2023-06-01",
          "2023-07-01",
          "2023-08-01",
          "2023-09-01",
          "2023-10-01",
          "2023-11-01",
          "2023-12-01",
          "2024-01-01",
          "2024-02-01",
          "2024-03-01",
          "2024-04-01",
          "2024-05-01",
          "2024-06-01",
          "2024-07-01",
          "2024-08-01",
          "2024-09-01",
          "2024-10-01",
          "2024-11-01",
          "2024-12-01",
          "2025-01-01",
          "2025-02-01",
          "2025-03-01",
          "2025-04-01",
          "2025-05-01",
          "2025-06-01"
         ],
         "xaxis": "x",
         "y": {
          "bdata": "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",
          "dtype": "f8"
         },
         "yaxis": "y"
        }
       ],
       "layout": {
        "legend": {
         "tracegroupgap": 0
        },
        "margin": {
         "t": 60
        },
        "template": {
         "data": {
          "bar": [
           {
            "error_x": {
             "color": "#2a3f5f"
            },
            "error_y": {
             "color": "#2a3f5f"
            },
            "marker": {
             "line": {
              "color": "#E5ECF6",
              "width": 0.5
             },
             "pattern": {
              "fillmode": "overlay",
              "size": 10,
              "solidity": 0.2
             }
            },
            "type": "bar"
           }
          ],
          "barpolar": [
           {
            "marker": {
             "line": {
              "color": "#E5ECF6",
              "width": 0.5
             },
             "pattern": {
              "fillmode": "overlay",
              "size": 10,
              "solidity": 0.2
             }
            },
            "type": "barpolar"
           }
          ],
          "carpet": [
           {
            "aaxis": {
             "endlinecolor": "#2a3f5f",
             "gridcolor": "white",
             "linecolor": "white",
             "minorgridcolor": "white",
             "startlinecolor": "#2a3f5f"
            },
            "baxis": {
             "endlinecolor": "#2a3f5f",
             "gridcolor": "white",
             "linecolor": "white",
             "minorgridcolor": "white",
             "startlinecolor": "#2a3f5f"
            },
            "type": "carpet"
           }
          ],
          "choropleth": [
           {
            "colorbar": {
             "outlinewidth": 0,
             "ticks": ""
            },
            "type": "choropleth"
           }
          ],
          "contour": [
           {
            "colorbar": {
             "outlinewidth": 0,
             "ticks": ""
            },
            "colorscale": [
             [
              0,
              "#0d0887"
             ],
             [
              0.1111111111111111,
              "#46039f"
             ],
             [
              0.2222222222222222,
              "#7201a8"
             ],
             [
              0.3333333333333333,
              "#9c179e"
             ],
             [
              0.4444444444444444,
              "#bd3786"
             ],
             [
              0.5555555555555556,
              "#d8576b"
             ],
             [
              0.6666666666666666,
              "#ed7953"
             ],
             [
              0.7777777777777778,
              "#fb9f3a"
             ],
             [
              0.8888888888888888,
              "#fdca26"
             ],
             [
              1,
              "#f0f921"
             ]
            ],
            "type": "contour"
           }
          ],
          "contourcarpet": [
           {
            "colorbar": {
             "outlinewidth": 0,
             "ticks": ""
            },
            "type": "contourcarpet"
           }
          ],
          "heatmap": [
           {
            "colorbar": {
             "outlinewidth": 0,
             "ticks": ""
            },
            "colorscale": [
             [
              0,
              "#0d0887"
             ],
             [
              0.1111111111111111,
              "#46039f"
             ],
             [
              0.2222222222222222,
              "#7201a8"
             ],
             [
              0.3333333333333333,
              "#9c179e"
             ],
             [
              0.4444444444444444,
              "#bd3786"
             ],
             [
              0.5555555555555556,
              "#d8576b"
             ],
             [
              0.6666666666666666,
              "#ed7953"
             ],
             [
              0.7777777777777778,
              "#fb9f3a"
             ],
             [
              0.8888888888888888,
              "#fdca26"
             ],
             [
              1,
              "#f0f921"
             ]
            ],
            "type": "heatmap"
           }
          ],
          "histogram": [
           {
            "marker": {
             "pattern": {
              "fillmode": "overlay",
              "size": 10,
              "solidity": 0.2
             }
            },
            "type": "histogram"
           }
          ],
          "histogram2d": [
           {
            "colorbar": {
             "outlinewidth": 0,
             "ticks": ""
            },
            "colorscale": [
             [
              0,
              "#0d0887"
             ],
             [
              0.1111111111111111,
              "#46039f"
             ],
             [
              0.2222222222222222,
              "#7201a8"
             ],
             [
              0.3333333333333333,
              "#9c179e"
             ],
             [
              0.4444444444444444,
              "#bd3786"
             ],
             [
              0.5555555555555556,
              "#d8576b"
             ],
             [
              0.6666666666666666,
              "#ed7953"
             ],
             [
              0.7777777777777778,
              "#fb9f3a"
             ],
             [
              0.8888888888888888,
              "#fdca26"
             ],
             [
              1,
              "#f0f921"
             ]
            ],
            "type": "histogram2d"
           }
          ],
          "histogram2dcontour": [
           {
            "colorbar": {
             "outlinewidth": 0,
             "ticks": ""
            },
            "colorscale": [
             [
              0,
              "#0d0887"
             ],
             [
              0.1111111111111111,
              "#46039f"
             ],
             [
              0.2222222222222222,
              "#7201a8"
             ],
             [
              0.3333333333333333,
              "#9c179e"
             ],
             [
              0.4444444444444444,
              "#bd3786"
             ],
             [
              0.5555555555555556,
              "#d8576b"
             ],
             [
              0.6666666666666666,
              "#ed7953"
             ],
             [
              0.7777777777777778,
              "#fb9f3a"
             ],
             [
              0.8888888888888888,
              "#fdca26"
             ],
             [
              1,
              "#f0f921"
             ]
            ],
            "type": "histogram2dcontour"
           }
          ],
          "mesh3d": [
           {
            "colorbar": {
             "outlinewidth": 0,
             "ticks": ""
            },
            "type": "mesh3d"
           }
          ],
          "parcoords": [
           {
            "line": {
             "colorbar": {
              "outlinewidth": 0,
              "ticks": ""
             }
            },
            "type": "parcoords"
           }
          ],
          "pie": [
           {
            "automargin": true,
            "type": "pie"
           }
          ],
          "scatter": [
           {
            "fillpattern": {
             "fillmode": "overlay",
             "size": 10,
             "solidity": 0.2
            },
            "type": "scatter"
           }
          ],
          "scatter3d": [
           {
            "line": {
             "colorbar": {
              "outlinewidth": 0,
              "ticks": ""
             }
            },
            "marker": {
             "colorbar": {
              "outlinewidth": 0,
              "ticks": ""
             }
            },
            "type": "scatter3d"
           }
          ],
          "scattercarpet": [
           {
            "marker": {
             "colorbar": {
              "outlinewidth": 0,
              "ticks": ""
             }
            },
            "type": "scattercarpet"
           }
          ],
          "scattergeo": [
           {
            "marker": {
             "colorbar": {
              "outlinewidth": 0,
              "ticks": ""
             }
            },
            "type": "scattergeo"
           }
          ],
          "scattergl": [
           {
            "marker": {
             "colorbar": {
              "outlinewidth": 0,
              "ticks": ""
             }
            },
            "type": "scattergl"
           }
          ],
          "scattermap": [
           {
            "marker": {
             "colorbar": {
              "outlinewidth": 0,
              "ticks": ""
             }
            },
            "type": "scattermap"
           }
          ],
          "scattermapbox": [
           {
            "marker": {
             "colorbar": {
              "outlinewidth": 0,
              "ticks": ""
             }
            },
            "type": "scattermapbox"
           }
          ],
          "scatterpolar": [
           {
            "marker": {
             "colorbar": {
              "outlinewidth": 0,
              "ticks": ""
             }
            },
            "type": "scatterpolar"
           }
          ],
          "scatterpolargl": [
           {
            "marker": {
             "colorbar": {
              "outlinewidth": 0,
              "ticks": ""
             }
            },
            "type": "scatterpolargl"
           }
          ],
          "scatterternary": [
           {
            "marker": {
             "colorbar": {
              "outlinewidth": 0,
              "ticks": ""
             }
            },
            "type": "scatterternary"
           }
          ],
          "surface": [
           {
            "colorbar": {
             "outlinewidth": 0,
             "ticks": ""
            },
            "colorscale": [
             [
              0,
              "#0d0887"
             ],
             [
              0.1111111111111111,
              "#46039f"
             ],
             [
              0.2222222222222222,
              "#7201a8"
             ],
             [
              0.3333333333333333,
              "#9c179e"
             ],
             [
              0.4444444444444444,
              "#bd3786"
             ],
             [
              0.5555555555555556,
              "#d8576b"
             ],
             [
              0.6666666666666666,
              "#ed7953"
             ],
             [
              0.7777777777777778,
              "#fb9f3a"
             ],
             [
              0.8888888888888888,
              "#fdca26"
             ],
             [
              1,
              "#f0f921"
             ]
            ],
            "type": "surface"
           }
          ],
          "table": [
           {
            "cells": {
             "fill": {
              "color": "#EBF0F8"
             },
             "line": {
              "color": "white"
             }
            },
            "header": {
             "fill": {
              "color": "#C8D4E3"
             },
             "line": {
              "color": "white"
             }
            },
            "type": "table"
           }
          ]
         },
         "layout": {
          "annotationdefaults": {
           "arrowcolor": "#2a3f5f",
           "arrowhead": 0,
           "arrowwidth": 1
          },
          "autotypenumbers": "strict",
          "coloraxis": {
           "colorbar": {
            "outlinewidth": 0,
            "ticks": ""
           }
          },
          "colorscale": {
           "diverging": [
            [
             0,
             "#8e0152"
            ],
            [
             0.1,
             "#c51b7d"
            ],
            [
             0.2,
             "#de77ae"
            ],
            [
             0.3,
             "#f1b6da"
            ],
            [
             0.4,
             "#fde0ef"
            ],
            [
             0.5,
             "#f7f7f7"
            ],
            [
             0.6,
             "#e6f5d0"
            ],
            [
             0.7,
             "#b8e186"
            ],
            [
             0.8,
             "#7fbc41"
            ],
            [
             0.9,
             "#4d9221"
            ],
            [
             1,
             "#276419"
            ]
           ],
           "sequential": [
            [
             0,
             "#0d0887"
            ],
            [
             0.1111111111111111,
             "#46039f"
            ],
            [
             0.2222222222222222,
             "#7201a8"
            ],
            [
             0.3333333333333333,
             "#9c179e"
            ],
            [
             0.4444444444444444,
             "#bd3786"
            ],
            [
             0.5555555555555556,
             "#d8576b"
            ],
            [
             0.6666666666666666,
             "#ed7953"
            ],
            [
             0.7777777777777778,
             "#fb9f3a"
            ],
            [
             0.8888888888888888,
             "#fdca26"
            ],
            [
             1,
             "#f0f921"
            ]
           ],
           "sequentialminus": [
            [
             0,
             "#0d0887"
            ],
            [
             0.1111111111111111,
             "#46039f"
            ],
            [
             0.2222222222222222,
             "#7201a8"
            ],
            [
             0.3333333333333333,
             "#9c179e"
            ],
            [
             0.4444444444444444,
             "#bd3786"
            ],
            [
             0.5555555555555556,
             "#d8576b"
            ],
            [
             0.6666666666666666,
             "#ed7953"
            ],
            [
             0.7777777777777778,
             "#fb9f3a"
            ],
            [
             0.8888888888888888,
             "#fdca26"
            ],
            [
             1,
             "#f0f921"
            ]
           ]
          },
          "colorway": [
           "#636efa",
           "#EF553B",
           "#00cc96",
           "#ab63fa",
           "#FFA15A",
           "#19d3f3",
           "#FF6692",
           "#B6E880",
           "#FF97FF",
           "#FECB52"
          ],
          "font": {
           "color": "#2a3f5f"
          },
          "geo": {
           "bgcolor": "white",
           "lakecolor": "white",
           "landcolor": "#E5ECF6",
           "showlakes": true,
           "showland": true,
           "subunitcolor": "white"
          },
          "hoverlabel": {
           "align": "left"
          },
          "hovermode": "closest",
          "mapbox": {
           "style": "light"
          },
          "paper_bgcolor": "white",
          "plot_bgcolor": "#E5ECF6",
          "polar": {
           "angularaxis": {
            "gridcolor": "white",
            "linecolor": "white",
            "ticks": ""
           },
           "bgcolor": "#E5ECF6",
           "radialaxis": {
            "gridcolor": "white",
            "linecolor": "white",
            "ticks": ""
           }
          },
          "scene": {
           "xaxis": {
            "backgroundcolor": "#E5ECF6",
            "gridcolor": "white",
            "gridwidth": 2,
            "linecolor": "white",
            "showbackground": true,
            "ticks": "",
            "zerolinecolor": "white"
           },
           "yaxis": {
            "backgroundcolor": "#E5ECF6",
            "gridcolor": "white",
            "gridwidth": 2,
            "linecolor": "white",
            "showbackground": true,
            "ticks": "",
            "zerolinecolor": "white"
           },
           "zaxis": {
            "backgroundcolor": "#E5ECF6",
            "gridcolor": "white",
            "gridwidth": 2,
            "linecolor": "white",
            "showbackground": true,
            "ticks": "",
            "zerolinecolor": "white"
           }
          },
          "shapedefaults": {
           "line": {
            "color": "#2a3f5f"
           }
          },
          "ternary": {
           "aaxis": {
            "gridcolor": "white",
            "linecolor": "white",
            "ticks": ""
           },
           "baxis": {
            "gridcolor": "white",
            "linecolor": "white",
            "ticks": ""
           },
           "bgcolor": "#E5ECF6",
           "caxis": {
            "gridcolor": "white",
            "linecolor": "white",
            "ticks": ""
           }
          },
          "title": {
           "x": 0.05
          },
          "xaxis": {
           "automargin": true,
           "gridcolor": "white",
           "linecolor": "white",
           "ticks": "",
           "title": {
            "standoff": 15
           },
           "zerolinecolor": "white",
           "zerolinewidth": 2
          },
          "yaxis": {
           "automargin": true,
           "gridcolor": "white",
           "linecolor": "white",
           "ticks": "",
           "title": {
            "standoff": 15
           },
           "zerolinecolor": "white",
           "zerolinewidth": 2
          }
         }
        },
        "xaxis": {
         "anchor": "y",
         "domain": [
          0,
          1
         ],
         "title": {
          "text": "x"
         }
        },
        "yaxis": {
         "anchor": "x",
         "domain": [
          0,
          1
         ],
         "title": {
          "text": "y"
         }
        }
       }
      },
      "image/png": "[encoded data removed]"
     },
     "metadata": {},
     "output_type": "display_data"
    }
   ],
   "source": [
    "df1 = df.copy()\n",
    "df1.loc[df1['seizure'] > 40000, 'seizure'] = np.mean(df1['seizure'])\n",
    "print(df1.loc[df1['date']=='2021-12-01'])\n",
    "px.line(x=df1['date'],y=df1['seizure'])"
   ]
  },
  {
   "cell_type": "code",
   "execution_count": 42,
   "id": "0668f32e-32af-4f5f-898b-f7a4af32ea95",
   "metadata": {},
   "outputs": [],
   "source": [
    "# 로그까지 할 필욘 없어 보임. 추세가 뚜렷하지 않음\n",
    "df.drop(columns=['seizure', 'seizure_log'], inplace=True)"
   ]
  },
  {
   "cell_type": "code",
   "execution_count": 43,
   "id": "0b5ecf4a-96f7-42ae-8b26-79ae8da11cb8",
   "metadata": {},
   "outputs": [
    {
     "data": {
      "text/html": [
       "<div>\n",
       "<style scoped>\n",
       "    .dataframe tbody tr th:only-of-type {\n",
       "        vertical-align: middle;\n",
       "    }\n",
       "\n",
       "    .dataframe tbody tr th {\n",
       "        vertical-align: top;\n",
       "    }\n",
       "\n",
       "    .dataframe thead th {\n",
       "        text-align: right;\n",
       "    }\n",
       "</style>\n",
       "<table border=\"1\" class=\"dataframe\">\n",
       "  <thead>\n",
       "    <tr style=\"text-align: right;\">\n",
       "      <th></th>\n",
       "      <th>date</th>\n",
       "      <th>HK_exports_to_Korea_logdiff</th>\n",
       "      <th>seizure_diff</th>\n",
       "    </tr>\n",
       "  </thead>\n",
       "  <tbody>\n",
       "    <tr>\n",
       "      <th>0</th>\n",
       "      <td>2001-02-01</td>\n",
       "      <td>NaN</td>\n",
       "      <td>NaN</td>\n",
       "    </tr>\n",
       "    <tr>\n",
       "      <th>1</th>\n",
       "      <td>2001-03-01</td>\n",
       "      <td>0.023309</td>\n",
       "      <td>-1795.0</td>\n",
       "    </tr>\n",
       "    <tr>\n",
       "      <th>2</th>\n",
       "      <td>2001-04-01</td>\n",
       "      <td>-0.014729</td>\n",
       "      <td>-399.0</td>\n",
       "    </tr>\n",
       "    <tr>\n",
       "      <th>3</th>\n",
       "      <td>2001-05-01</td>\n",
       "      <td>-0.017692</td>\n",
       "      <td>38509.0</td>\n",
       "    </tr>\n",
       "    <tr>\n",
       "      <th>4</th>\n",
       "      <td>2001-06-01</td>\n",
       "      <td>-0.151941</td>\n",
       "      <td>-39172.0</td>\n",
       "    </tr>\n",
       "    <tr>\n",
       "      <th>...</th>\n",
       "      <td>...</td>\n",
       "      <td>...</td>\n",
       "      <td>...</td>\n",
       "    </tr>\n",
       "    <tr>\n",
       "      <th>288</th>\n",
       "      <td>2025-02-01</td>\n",
       "      <td>-0.226862</td>\n",
       "      <td>-9954.0</td>\n",
       "    </tr>\n",
       "    <tr>\n",
       "      <th>289</th>\n",
       "      <td>2025-03-01</td>\n",
       "      <td>0.062489</td>\n",
       "      <td>-7234.0</td>\n",
       "    </tr>\n",
       "    <tr>\n",
       "      <th>290</th>\n",
       "      <td>2025-04-01</td>\n",
       "      <td>-0.071124</td>\n",
       "      <td>17958.0</td>\n",
       "    </tr>\n",
       "    <tr>\n",
       "      <th>291</th>\n",
       "      <td>2025-05-01</td>\n",
       "      <td>-0.035947</td>\n",
       "      <td>-30307.0</td>\n",
       "    </tr>\n",
       "    <tr>\n",
       "      <th>292</th>\n",
       "      <td>2025-06-01</td>\n",
       "      <td>-0.000642</td>\n",
       "      <td>23805.0</td>\n",
       "    </tr>\n",
       "  </tbody>\n",
       "</table>\n",
       "<p>293 rows × 3 columns</p>\n",
       "</div>"
      ],
      "text/plain": [
       "           date  HK_exports_to_Korea_logdiff  seizure_diff\n",
       "0    2001-02-01                          NaN           NaN\n",
       "1    2001-03-01                     0.023309       -1795.0\n",
       "2    2001-04-01                    -0.014729        -399.0\n",
       "3    2001-05-01                    -0.017692       38509.0\n",
       "4    2001-06-01                    -0.151941      -39172.0\n",
       "..          ...                          ...           ...\n",
       "288  2025-02-01                    -0.226862       -9954.0\n",
       "289  2025-03-01                     0.062489       -7234.0\n",
       "290  2025-04-01                    -0.071124       17958.0\n",
       "291  2025-05-01                    -0.035947      -30307.0\n",
       "292  2025-06-01                    -0.000642       23805.0\n",
       "\n",
       "[293 rows x 3 columns]"
      ]
     },
     "execution_count": 43,
     "metadata": {},
     "output_type": "execute_result"
    }
   ],
   "source": [
    "df"
   ]
  },
  {
   "cell_type": "code",
   "execution_count": 48,
   "id": "5ecc965d-cd5a-4347-bd2b-5c3a33b6c0aa",
   "metadata": {},
   "outputs": [],
   "source": [
    "# 독립변수 변환 반영\n",
    "df.to_csv('regression.csv', index=False)"
   ]
  },
  {
   "cell_type": "code",
   "execution_count": 49,
   "id": "07f2c8f5-439d-414e-8427-e3f55e2ad723",
   "metadata": {},
   "outputs": [
    {
     "data": {
      "text/html": [
       "<div>\n",
       "<style scoped>\n",
       "    .dataframe tbody tr th:only-of-type {\n",
       "        vertical-align: middle;\n",
       "    }\n",
       "\n",
       "    .dataframe tbody tr th {\n",
       "        vertical-align: top;\n",
       "    }\n",
       "\n",
       "    .dataframe thead th {\n",
       "        text-align: right;\n",
       "    }\n",
       "</style>\n",
       "<table border=\"1\" class=\"dataframe\">\n",
       "  <thead>\n",
       "    <tr style=\"text-align: right;\">\n",
       "      <th></th>\n",
       "      <th>date</th>\n",
       "      <th>HK_exports_to_Korea_logdiff</th>\n",
       "      <th>seizure_diff</th>\n",
       "    </tr>\n",
       "  </thead>\n",
       "  <tbody>\n",
       "    <tr>\n",
       "      <th>0</th>\n",
       "      <td>2001-02-01</td>\n",
       "      <td>NaN</td>\n",
       "      <td>NaN</td>\n",
       "    </tr>\n",
       "    <tr>\n",
       "      <th>1</th>\n",
       "      <td>2001-03-01</td>\n",
       "      <td>0.023309</td>\n",
       "      <td>-1795.0</td>\n",
       "    </tr>\n",
       "    <tr>\n",
       "      <th>2</th>\n",
       "      <td>2001-04-01</td>\n",
       "      <td>-0.014729</td>\n",
       "      <td>-399.0</td>\n",
       "    </tr>\n",
       "    <tr>\n",
       "      <th>3</th>\n",
       "      <td>2001-05-01</td>\n",
       "      <td>-0.017692</td>\n",
       "      <td>38509.0</td>\n",
       "    </tr>\n",
       "    <tr>\n",
       "      <th>4</th>\n",
       "      <td>2001-06-01</td>\n",
       "      <td>-0.151941</td>\n",
       "      <td>-39172.0</td>\n",
       "    </tr>\n",
       "    <tr>\n",
       "      <th>...</th>\n",
       "      <td>...</td>\n",
       "      <td>...</td>\n",
       "      <td>...</td>\n",
       "    </tr>\n",
       "    <tr>\n",
       "      <th>288</th>\n",
       "      <td>2025-02-01</td>\n",
       "      <td>-0.226862</td>\n",
       "      <td>-9954.0</td>\n",
       "    </tr>\n",
       "    <tr>\n",
       "      <th>289</th>\n",
       "      <td>2025-03-01</td>\n",
       "      <td>0.062489</td>\n",
       "      <td>-7234.0</td>\n",
       "    </tr>\n",
       "    <tr>\n",
       "      <th>290</th>\n",
       "      <td>2025-04-01</td>\n",
       "      <td>-0.071124</td>\n",
       "      <td>17958.0</td>\n",
       "    </tr>\n",
       "    <tr>\n",
       "      <th>291</th>\n",
       "      <td>2025-05-01</td>\n",
       "      <td>-0.035947</td>\n",
       "      <td>-30307.0</td>\n",
       "    </tr>\n",
       "    <tr>\n",
       "      <th>292</th>\n",
       "      <td>2025-06-01</td>\n",
       "      <td>-0.000642</td>\n",
       "      <td>23805.0</td>\n",
       "    </tr>\n",
       "  </tbody>\n",
       "</table>\n",
       "<p>293 rows × 3 columns</p>\n",
       "</div>"
      ],
      "text/plain": [
       "           date  HK_exports_to_Korea_logdiff  seizure_diff\n",
       "0    2001-02-01                          NaN           NaN\n",
       "1    2001-03-01                     0.023309       -1795.0\n",
       "2    2001-04-01                    -0.014729        -399.0\n",
       "3    2001-05-01                    -0.017692       38509.0\n",
       "4    2001-06-01                    -0.151941      -39172.0\n",
       "..          ...                          ...           ...\n",
       "288  2025-02-01                    -0.226862       -9954.0\n",
       "289  2025-03-01                     0.062489       -7234.0\n",
       "290  2025-04-01                    -0.071124       17958.0\n",
       "291  2025-05-01                    -0.035947      -30307.0\n",
       "292  2025-06-01                    -0.000642       23805.0\n",
       "\n",
       "[293 rows x 3 columns]"
      ]
     },
     "execution_count": 49,
     "metadata": {},
     "output_type": "execute_result"
    }
   ],
   "source": [
    "df2 = pd.read_csv('regression.csv')\n",
    "df2"
   ]
  },
  {
   "cell_type": "code",
   "execution_count": null,
   "id": "367e45fa-e5bd-4583-ac62-7396e0596cfb",
   "metadata": {},
   "outputs": [],
   "source": []
  }
 ],
 "metadata": {
  "kernelspec": {
   "display_name": "Python 3 (ipykernel)",
   "language": "python",
   "name": "python3"
  },
  "language_info": {
   "codemirror_mode": {
    "name": "ipython",
    "version": 3
   },
   "file_extension": ".py",
   "mimetype": "text/x-python",
   "name": "python",
   "nbconvert_exporter": "python",
   "pygments_lexer": "ipython3",
   "version": "3.12.9"
  }
 },
 "nbformat": 4,
 "nbformat_minor": 5
}
