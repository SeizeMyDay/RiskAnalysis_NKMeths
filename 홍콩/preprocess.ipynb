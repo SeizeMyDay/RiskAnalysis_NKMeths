{
 "cells": [
  {
   "cell_type": "code",
   "execution_count": 22,
   "id": "21df3eb8-9692-4f6b-a244-37e9675dbc72",
   "metadata": {},
   "outputs": [],
   "source": [
    "import pandas as pd\n",
    "import numpy as np\n",
    "import matplotlib.pyplot as plt\n",
    "import plotly.express as px"
   ]
  },
  {
   "cell_type": "code",
   "execution_count": 2,
   "id": "883a4cf8-102e-4fcc-915c-f4bce993d408",
   "metadata": {},
   "outputs": [],
   "source": [
    "file = 'HK External Merchandise Trade Statistics - Total Exports to Ten Main Destinations_foruse.csv'\n",
    "o_df = pd.read_csv(file)"
   ]
  },
  {
   "cell_type": "code",
   "execution_count": 84,
   "id": "82473366-df03-4a47-888c-7c138f7da631",
   "metadata": {},
   "outputs": [
    {
     "data": {
      "text/html": [
       "<div>\n",
       "<style scoped>\n",
       "    .dataframe tbody tr th:only-of-type {\n",
       "        vertical-align: middle;\n",
       "    }\n",
       "\n",
       "    .dataframe tbody tr th {\n",
       "        vertical-align: top;\n",
       "    }\n",
       "\n",
       "    .dataframe thead th {\n",
       "        text-align: right;\n",
       "    }\n",
       "</style>\n",
       "<table border=\"1\" class=\"dataframe\">\n",
       "  <thead>\n",
       "    <tr style=\"text-align: right;\">\n",
       "      <th></th>\n",
       "      <th>Year</th>\n",
       "      <th>Month</th>\n",
       "      <th>Korea</th>\n",
       "      <th>Korea_change</th>\n",
       "      <th>All destinations</th>\n",
       "      <th>All destinations_change</th>\n",
       "    </tr>\n",
       "  </thead>\n",
       "  <tbody>\n",
       "    <tr>\n",
       "      <th>0</th>\n",
       "      <td>1972</td>\n",
       "      <td>NaN</td>\n",
       "      <td>179</td>\n",
       "      <td>N.A.</td>\n",
       "      <td>19400</td>\n",
       "      <td>13</td>\n",
       "    </tr>\n",
       "    <tr>\n",
       "      <th>1</th>\n",
       "      <td>1973</td>\n",
       "      <td>NaN</td>\n",
       "      <td>383</td>\n",
       "      <td>113.9</td>\n",
       "      <td>25999</td>\n",
       "      <td>34</td>\n",
       "    </tr>\n",
       "    <tr>\n",
       "      <th>2</th>\n",
       "      <td>1974</td>\n",
       "      <td>NaN</td>\n",
       "      <td>373</td>\n",
       "      <td>-2.7</td>\n",
       "      <td>30036</td>\n",
       "      <td>15.5</td>\n",
       "    </tr>\n",
       "    <tr>\n",
       "      <th>3</th>\n",
       "      <td>1975</td>\n",
       "      <td>NaN</td>\n",
       "      <td>328</td>\n",
       "      <td>-11.9</td>\n",
       "      <td>29832</td>\n",
       "      <td>-0.7</td>\n",
       "    </tr>\n",
       "    <tr>\n",
       "      <th>4</th>\n",
       "      <td>1976</td>\n",
       "      <td>NaN</td>\n",
       "      <td>476</td>\n",
       "      <td>44.9</td>\n",
       "      <td>41557</td>\n",
       "      <td>39.3</td>\n",
       "    </tr>\n",
       "    <tr>\n",
       "      <th>...</th>\n",
       "      <td>...</td>\n",
       "      <td>...</td>\n",
       "      <td>...</td>\n",
       "      <td>...</td>\n",
       "      <td>...</td>\n",
       "      <td>...</td>\n",
       "    </tr>\n",
       "    <tr>\n",
       "      <th>690</th>\n",
       "      <td>2025</td>\n",
       "      <td>Feb</td>\n",
       "      <td>4885</td>\n",
       "      <td>-9.3</td>\n",
       "      <td>327909</td>\n",
       "      <td>15.4</td>\n",
       "    </tr>\n",
       "    <tr>\n",
       "      <th>691</th>\n",
       "      <td>2025</td>\n",
       "      <td>Mar</td>\n",
       "      <td>5200</td>\n",
       "      <td>-22.8</td>\n",
       "      <td>455534</td>\n",
       "      <td>18.5</td>\n",
       "    </tr>\n",
       "    <tr>\n",
       "      <th>692</th>\n",
       "      <td>2025</td>\n",
       "      <td>Apr</td>\n",
       "      <td>4843</td>\n",
       "      <td>-26.7</td>\n",
       "      <td>434464</td>\n",
       "      <td>14.7</td>\n",
       "    </tr>\n",
       "    <tr>\n",
       "      <th>693</th>\n",
       "      <td>2025</td>\n",
       "      <td>May</td>\n",
       "      <td>4672</td>\n",
       "      <td>-25.6</td>\n",
       "      <td>434081</td>\n",
       "      <td>15.5</td>\n",
       "    </tr>\n",
       "    <tr>\n",
       "      <th>694</th>\n",
       "      <td>2025</td>\n",
       "      <td>Jun</td>\n",
       "      <td>4669</td>\n",
       "      <td>-10.9</td>\n",
       "      <td>417818</td>\n",
       "      <td>11.9</td>\n",
       "    </tr>\n",
       "  </tbody>\n",
       "</table>\n",
       "<p>695 rows × 6 columns</p>\n",
       "</div>"
      ],
      "text/plain": [
       "     Year Month  Korea Korea_change  All destinations All destinations_change\n",
       "0    1972   NaN    179         N.A.             19400                      13\n",
       "1    1973   NaN    383        113.9             25999                      34\n",
       "2    1974   NaN    373         -2.7             30036                    15.5\n",
       "3    1975   NaN    328        -11.9             29832                    -0.7\n",
       "4    1976   NaN    476         44.9             41557                    39.3\n",
       "..    ...   ...    ...          ...               ...                     ...\n",
       "690  2025   Feb   4885         -9.3            327909                    15.4\n",
       "691  2025   Mar   5200        -22.8            455534                    18.5\n",
       "692  2025   Apr   4843        -26.7            434464                    14.7\n",
       "693  2025   May   4672        -25.6            434081                    15.5\n",
       "694  2025   Jun   4669        -10.9            417818                    11.9\n",
       "\n",
       "[695 rows x 6 columns]"
      ]
     },
     "execution_count": 84,
     "metadata": {},
     "output_type": "execute_result"
    }
   ],
   "source": [
    "df = o_df.copy()\n",
    "df"
   ]
  },
  {
   "cell_type": "markdown",
   "id": "b05ba734-52cd-45a2-a491-a985715db979",
   "metadata": {},
   "source": [
    "1. Year, Month, Korea 컬럼만 남기기\n",
    "2. Month가 결측치인 행 제거\n",
    "3. 결측치, 이상치 확인 및 처리\n",
    "4. Year, Month 통합. datetime으로 변환"
   ]
  },
  {
   "cell_type": "markdown",
   "id": "27d312f5-a680-40a8-a41f-e66c08cdcd83",
   "metadata": {
    "jp-MarkdownHeadingCollapsed": true
   },
   "source": [
    "### 1"
   ]
  },
  {
   "cell_type": "code",
   "execution_count": 85,
   "id": "da747034-0e6d-40a6-85c7-4e7f01a53604",
   "metadata": {},
   "outputs": [
    {
     "data": {
      "text/html": [
       "<div>\n",
       "<style scoped>\n",
       "    .dataframe tbody tr th:only-of-type {\n",
       "        vertical-align: middle;\n",
       "    }\n",
       "\n",
       "    .dataframe tbody tr th {\n",
       "        vertical-align: top;\n",
       "    }\n",
       "\n",
       "    .dataframe thead th {\n",
       "        text-align: right;\n",
       "    }\n",
       "</style>\n",
       "<table border=\"1\" class=\"dataframe\">\n",
       "  <thead>\n",
       "    <tr style=\"text-align: right;\">\n",
       "      <th></th>\n",
       "      <th>Year</th>\n",
       "      <th>Month</th>\n",
       "      <th>Korea</th>\n",
       "    </tr>\n",
       "  </thead>\n",
       "  <tbody>\n",
       "    <tr>\n",
       "      <th>0</th>\n",
       "      <td>1972</td>\n",
       "      <td>NaN</td>\n",
       "      <td>179</td>\n",
       "    </tr>\n",
       "    <tr>\n",
       "      <th>1</th>\n",
       "      <td>1973</td>\n",
       "      <td>NaN</td>\n",
       "      <td>383</td>\n",
       "    </tr>\n",
       "    <tr>\n",
       "      <th>2</th>\n",
       "      <td>1974</td>\n",
       "      <td>NaN</td>\n",
       "      <td>373</td>\n",
       "    </tr>\n",
       "    <tr>\n",
       "      <th>3</th>\n",
       "      <td>1975</td>\n",
       "      <td>NaN</td>\n",
       "      <td>328</td>\n",
       "    </tr>\n",
       "    <tr>\n",
       "      <th>4</th>\n",
       "      <td>1976</td>\n",
       "      <td>NaN</td>\n",
       "      <td>476</td>\n",
       "    </tr>\n",
       "    <tr>\n",
       "      <th>...</th>\n",
       "      <td>...</td>\n",
       "      <td>...</td>\n",
       "      <td>...</td>\n",
       "    </tr>\n",
       "    <tr>\n",
       "      <th>690</th>\n",
       "      <td>2025</td>\n",
       "      <td>Feb</td>\n",
       "      <td>4885</td>\n",
       "    </tr>\n",
       "    <tr>\n",
       "      <th>691</th>\n",
       "      <td>2025</td>\n",
       "      <td>Mar</td>\n",
       "      <td>5200</td>\n",
       "    </tr>\n",
       "    <tr>\n",
       "      <th>692</th>\n",
       "      <td>2025</td>\n",
       "      <td>Apr</td>\n",
       "      <td>4843</td>\n",
       "    </tr>\n",
       "    <tr>\n",
       "      <th>693</th>\n",
       "      <td>2025</td>\n",
       "      <td>May</td>\n",
       "      <td>4672</td>\n",
       "    </tr>\n",
       "    <tr>\n",
       "      <th>694</th>\n",
       "      <td>2025</td>\n",
       "      <td>Jun</td>\n",
       "      <td>4669</td>\n",
       "    </tr>\n",
       "  </tbody>\n",
       "</table>\n",
       "<p>695 rows × 3 columns</p>\n",
       "</div>"
      ],
      "text/plain": [
       "     Year Month  Korea\n",
       "0    1972   NaN    179\n",
       "1    1973   NaN    383\n",
       "2    1974   NaN    373\n",
       "3    1975   NaN    328\n",
       "4    1976   NaN    476\n",
       "..    ...   ...    ...\n",
       "690  2025   Feb   4885\n",
       "691  2025   Mar   5200\n",
       "692  2025   Apr   4843\n",
       "693  2025   May   4672\n",
       "694  2025   Jun   4669\n",
       "\n",
       "[695 rows x 3 columns]"
      ]
     },
     "execution_count": 85,
     "metadata": {},
     "output_type": "execute_result"
    }
   ],
   "source": [
    "df = df[['Year', 'Month', 'Korea']]\n",
    "df"
   ]
  },
  {
   "cell_type": "markdown",
   "id": "a0a018d5-0750-4fbe-8248-e34503a92c0c",
   "metadata": {
    "jp-MarkdownHeadingCollapsed": true
   },
   "source": [
    "### 2"
   ]
  },
  {
   "cell_type": "code",
   "execution_count": 86,
   "id": "eb65c3f2-7eb6-4f7d-bf6f-73bc252d5854",
   "metadata": {
    "scrolled": true
   },
   "outputs": [],
   "source": [
    "df = df.drop(df.loc[df['Month'].isnull()].index, axis=0)"
   ]
  },
  {
   "cell_type": "markdown",
   "id": "a9a8c4b7-6699-4053-a711-0be5fab0cd53",
   "metadata": {
    "jp-MarkdownHeadingCollapsed": true
   },
   "source": [
    "### 3"
   ]
  },
  {
   "cell_type": "code",
   "execution_count": 87,
   "id": "f2d5e1f7-4a89-4461-ae24-095beb7aa9fb",
   "metadata": {},
   "outputs": [
    {
     "data": {
      "application/vnd.plotly.v1+json": {
       "config": {
        "plotlyServerURL": "https://plot.ly"
       },
       "data": [
        {
         "hovertemplate": "variable=Korea<br>index=%{x}<br>value=%{y}<extra></extra>",
         "legendgroup": "Korea",
         "line": {
          "color": "#636efa",
          "dash": "solid"
         },
         "marker": {
          "symbol": "circle"
         },
         "mode": "lines",
         "name": "Korea",
         "orientation": "v",
         "showlegend": true,
         "type": "scatter",
         "x": {
          "bdata": "NQA2ADcAOAA5ADoAOwA8AD0APgA/AEAAQQBCAEMARABFAEYARwBIAEkASgBLAEwATQBOAE8AUABRAFIAUwBUAFUAVgBXAFgAWQBaAFsAXABdAF4AXwBgAGEAYgBjAGQAZQBmAGcAaABpAGoAawBsAG0AbgBvAHAAcQByAHMAdAB1AHYAdwB4AHkAegB7AHwAfQB+AH8AgACBAIIAgwCEAIUAhgCHAIgAiQCKAIsAjACNAI4AjwCQAJEAkgCTAJQAlQCWAJcAmACZAJoAmwCcAJ0AngCfAKAAoQCiAKMApAClAKYApwCoAKkAqgCrAKwArQCuAK8AsACxALIAswC0ALUAtgC3ALgAuQC6ALsAvAC9AL4AvwDAAMEAwgDDAMQAxQDGAMcAyADJAMoAywDMAM0AzgDPANAA0QDSANMA1ADVANYA1wDYANkA2gDbANwA3QDeAN8A4ADhAOIA4wDkAOUA5gDnAOgA6QDqAOsA7ADtAO4A7wDwAPEA8gDzAPQA9QD2APcA+AD5APoA+wD8AP0A/gD/AAABAQECAQMBBAEFAQYBBwEIAQkBCgELAQwBDQEOAQ8BEAERARIBEwEUARUBFgEXARgBGQEaARsBHAEdAR4BHwEgASEBIgEjASQBJQEmAScBKAEpASoBKwEsAS0BLgEvATABMQEyATMBNAE1ATYBNwE4ATkBOgE7ATwBPQE+AT8BQAFBAUIBQwFEAUUBRgFHAUgBSQFKAUsBTAFNAU4BTwFQAVEBUgFTAVQBVQFWAVcBWAFZAVoBWwFcAV0BXgFfAWABYQFiAWMBZAFlAWYBZwFoAWkBagFrAWwBbQFuAW8BcAFxAXIBcwF0AXUBdgF3AXgBeQF6AXsBfAF9AX4BfwGAAYEBggGDAYQBhQGGAYcBiAGJAYoBiwGMAY0BjgGPAZABkQGSAZMBlAGVAZYBlwGYAZkBmgGbAZwBnQGeAZ8BoAGhAaIBowGkAaUBpgGnAagBqQGqAasBrAGtAa4BrwGwAbEBsgGzAbQBtQG2AbcBuAG5AboBuwG8Ab0BvgG/AcABwQHCAcMBxAHFAcYBxwHIAckBygHLAcwBzQHOAc8B0AHRAdIB0wHUAdUB1gHXAdgB2QHaAdsB3AHdAd4B3wHgAeEB4gHjAeQB5QHmAecB6AHpAeoB6wHsAe0B7gHvAfAB8QHyAfMB9AH1AfYB9wH4AfkB+gH7AfwB/QH+Af8BAAIBAgICAwIEAgUCBgIHAggCCQIKAgsCDAINAg4CDwIQAhECEgITAhQCFQIWAhcCGAIZAhoCGwIcAh0CHgIfAiACIQIiAiMCJAIlAiYCJwIoAikCKgIrAiwCLQIuAi8CMAIxAjICMwI0AjUCNgI3AjgCOQI6AjsCPAI9Aj4CPwJAAkECQgJDAkQCRQJGAkcCSAJJAkoCSwJMAk0CTgJPAlACUQJSAlMCVAJVAlYCVwJYAlkCWgJbAlwCXQJeAl8CYAJhAmICYwJkAmUCZgJnAmgCaQJqAmsCbAJtAm4CbwJwAnECcgJzAnQCdQJ2AncCeAJ5AnoCewJ8An0CfgJ/AoACgQKCAoMChAKFAoYChwKIAokCigKLAowCjQKOAo8CkAKRApICkwKUApUClgKXApgCmQKaApsCnAKdAp4CnwKgAqECogKjAqQCpQKmAqcCqAKpAqoCqwKsAq0CrgKvArACsQKyArMCtAK1ArYC",
          "dtype": "i2"
         },
         "xaxis": "x",
         "y": {
          "bdata": "CgANAAsADQANAA4ADAAOABMAEgAWABMAEgAPABwAEgAdAB4AGgAaADYAMQAxACkAIwAqADEAJAAmACEAFAAVABsAFAAZABwAFwASABwAIAAaABYAHAAdABcAHQAnACAAIgAnACEALAAxACcAIwAlACkAIgApADIAKAAoAC0AKgBBACwAKwAqADEAMQAuAC0ALAAqAD4AOABHAEAANgA6AD8AOwBLAEoARgBYAE0AXQBeAFQATgBKAGEAWABkAFEAVgBfAGkAXgBvAFkAZQBTAF4AUwBaAGQAdABgAIEAfQCTAJIAdgCWAJcAgwCZAJIAfACgALgAkgCnAJAAjACjALYAmAC4AMkAqACnAOwA6ADsAPgA5wDgAOsA/AAGARIBGgEHAU0BSgFqAW0BZQE8AUMBMwE9ASkBUAEQAVsBQQFKARoBZAF6AZ8BMQHGAbgBlgF0AdwBFQIXAi8CcwL+ASUCXAKXAocCjgKVAiUDQQOGA1gDfAM+AxMDUQNmA8QDbwMABDIEHwRmBEoErgRnBFcETgR0BE0EZwR2BNsEoQXdBC8FKgXUBGQE8wQIBZgEZARBBAgFHwV8BaEEsQSlBIUEOgWlBWcE7wT1AwgFrgVbBl0F+QUxBcAFVgVoBRcFLgM5BVwFbAWJBdMEzgR5BMwEKwXXBPsEngN/BWEFLwYVBswEUAZNBVYGdAYKBlgG7QQZBZEGFAaLBnsGbgavBf8FcwZaBgYGVgYdBhQH5wZfB9EGcwdQB3kHMAc1B3kH/AbwBT0H8QclCD4H2QfvB5wHKQi7BuYGKgduBo8Hzwc1B1oGpwexB/4G7geqBh8F3QMyBGEEMgVwBFYE6gMPBC4EUQQyBdoFKQZSBfoG2wbCBscGZwfHBncHggaNB7gI1AgWCF8KsgjNCPgIQAmfCe0JOwp2CcUJagidCNEIsAiJCFUHCwjnB7sI8ggXCVEIrgjDCJALWAmSCaAIEQqRCe4JNQtGC2MKhgr7CbULfgtJCz8LbAuHC8ULPA1PDH0M3AvxDbMP0w45DroN/g0fDrkObw9UDl4PuQ95DFgPDQ9jD2wOvA4EENcQtRLvEdgPyBB6D2wSxhBDEEgQ+BCyEZQRsRE4EU4PYA9IDjsSNhGUEU4RXBAtEpUSaxJIEiARyhEND10RjhK4EJMP7hItELYPTxEYDZYLTAzdCvILdQ0cDYQNiA+/DqcP8Q9PDzAQ6w8mDhYSQxGXEGQRiBGPEvARahFbEskUzRRDES4V0hLBFBcViBMAFooTABXcEY0TmROYE+gRaxNQE6ES/xJGFIUTKxLyEhoUGRTZEKwVBhQwFCwUTRJyFMQYRRdUFtYWvhYDDxkVgBNnFGgVZRabFrETxBQGFC4SVxOcEPQTfhEbE1IQ1hB9EucRLxE4EYcQhxDMDe0QPhK/EngQmRETE4ISlxCTEkQUHxRWEPIRwhH+EAwSfxJ9EdkTuRG2Ez4VSBLAEHASZhHSESkSwBPlEc4VRxSrE0gUqROzEOoS7hIwFqUQ+RIBFCoQVxHHEvIQthAIDlwSrBEbEg0OLw8xEv8QBRDPElgUBxVPFbkXBhUpFQ0XPxtuGf8aAhjYGrsdmR0eFHgXAxpKG2obCRwuKNQT9Bh9GHYbcRUlGvMayBgdFwwYKBf+GVgYyBd6F+AUOhUKFUwayxmFGHgUThaiGOASNRRkFowV8RcVE1AU6xJAEj0S",
          "dtype": "i2"
         },
         "yaxis": "y"
        }
       ],
       "layout": {
        "legend": {
         "title": {
          "text": "variable"
         },
         "tracegroupgap": 0
        },
        "margin": {
         "t": 60
        },
        "template": {
         "data": {
          "bar": [
           {
            "error_x": {
             "color": "#2a3f5f"
            },
            "error_y": {
             "color": "#2a3f5f"
            },
            "marker": {
             "line": {
              "color": "#E5ECF6",
              "width": 0.5
             },
             "pattern": {
              "fillmode": "overlay",
              "size": 10,
              "solidity": 0.2
             }
            },
            "type": "bar"
           }
          ],
          "barpolar": [
           {
            "marker": {
             "line": {
              "color": "#E5ECF6",
              "width": 0.5
             },
             "pattern": {
              "fillmode": "overlay",
              "size": 10,
              "solidity": 0.2
             }
            },
            "type": "barpolar"
           }
          ],
          "carpet": [
           {
            "aaxis": {
             "endlinecolor": "#2a3f5f",
             "gridcolor": "white",
             "linecolor": "white",
             "minorgridcolor": "white",
             "startlinecolor": "#2a3f5f"
            },
            "baxis": {
             "endlinecolor": "#2a3f5f",
             "gridcolor": "white",
             "linecolor": "white",
             "minorgridcolor": "white",
             "startlinecolor": "#2a3f5f"
            },
            "type": "carpet"
           }
          ],
          "choropleth": [
           {
            "colorbar": {
             "outlinewidth": 0,
             "ticks": ""
            },
            "type": "choropleth"
           }
          ],
          "contour": [
           {
            "colorbar": {
             "outlinewidth": 0,
             "ticks": ""
            },
            "colorscale": [
             [
              0,
              "#0d0887"
             ],
             [
              0.1111111111111111,
              "#46039f"
             ],
             [
              0.2222222222222222,
              "#7201a8"
             ],
             [
              0.3333333333333333,
              "#9c179e"
             ],
             [
              0.4444444444444444,
              "#bd3786"
             ],
             [
              0.5555555555555556,
              "#d8576b"
             ],
             [
              0.6666666666666666,
              "#ed7953"
             ],
             [
              0.7777777777777778,
              "#fb9f3a"
             ],
             [
              0.8888888888888888,
              "#fdca26"
             ],
             [
              1,
              "#f0f921"
             ]
            ],
            "type": "contour"
           }
          ],
          "contourcarpet": [
           {
            "colorbar": {
             "outlinewidth": 0,
             "ticks": ""
            },
            "type": "contourcarpet"
           }
          ],
          "heatmap": [
           {
            "colorbar": {
             "outlinewidth": 0,
             "ticks": ""
            },
            "colorscale": [
             [
              0,
              "#0d0887"
             ],
             [
              0.1111111111111111,
              "#46039f"
             ],
             [
              0.2222222222222222,
              "#7201a8"
             ],
             [
              0.3333333333333333,
              "#9c179e"
             ],
             [
              0.4444444444444444,
              "#bd3786"
             ],
             [
              0.5555555555555556,
              "#d8576b"
             ],
             [
              0.6666666666666666,
              "#ed7953"
             ],
             [
              0.7777777777777778,
              "#fb9f3a"
             ],
             [
              0.8888888888888888,
              "#fdca26"
             ],
             [
              1,
              "#f0f921"
             ]
            ],
            "type": "heatmap"
           }
          ],
          "histogram": [
           {
            "marker": {
             "pattern": {
              "fillmode": "overlay",
              "size": 10,
              "solidity": 0.2
             }
            },
            "type": "histogram"
           }
          ],
          "histogram2d": [
           {
            "colorbar": {
             "outlinewidth": 0,
             "ticks": ""
            },
            "colorscale": [
             [
              0,
              "#0d0887"
             ],
             [
              0.1111111111111111,
              "#46039f"
             ],
             [
              0.2222222222222222,
              "#7201a8"
             ],
             [
              0.3333333333333333,
              "#9c179e"
             ],
             [
              0.4444444444444444,
              "#bd3786"
             ],
             [
              0.5555555555555556,
              "#d8576b"
             ],
             [
              0.6666666666666666,
              "#ed7953"
             ],
             [
              0.7777777777777778,
              "#fb9f3a"
             ],
             [
              0.8888888888888888,
              "#fdca26"
             ],
             [
              1,
              "#f0f921"
             ]
            ],
            "type": "histogram2d"
           }
          ],
          "histogram2dcontour": [
           {
            "colorbar": {
             "outlinewidth": 0,
             "ticks": ""
            },
            "colorscale": [
             [
              0,
              "#0d0887"
             ],
             [
              0.1111111111111111,
              "#46039f"
             ],
             [
              0.2222222222222222,
              "#7201a8"
             ],
             [
              0.3333333333333333,
              "#9c179e"
             ],
             [
              0.4444444444444444,
              "#bd3786"
             ],
             [
              0.5555555555555556,
              "#d8576b"
             ],
             [
              0.6666666666666666,
              "#ed7953"
             ],
             [
              0.7777777777777778,
              "#fb9f3a"
             ],
             [
              0.8888888888888888,
              "#fdca26"
             ],
             [
              1,
              "#f0f921"
             ]
            ],
            "type": "histogram2dcontour"
           }
          ],
          "mesh3d": [
           {
            "colorbar": {
             "outlinewidth": 0,
             "ticks": ""
            },
            "type": "mesh3d"
           }
          ],
          "parcoords": [
           {
            "line": {
             "colorbar": {
              "outlinewidth": 0,
              "ticks": ""
             }
            },
            "type": "parcoords"
           }
          ],
          "pie": [
           {
            "automargin": true,
            "type": "pie"
           }
          ],
          "scatter": [
           {
            "fillpattern": {
             "fillmode": "overlay",
             "size": 10,
             "solidity": 0.2
            },
            "type": "scatter"
           }
          ],
          "scatter3d": [
           {
            "line": {
             "colorbar": {
              "outlinewidth": 0,
              "ticks": ""
             }
            },
            "marker": {
             "colorbar": {
              "outlinewidth": 0,
              "ticks": ""
             }
            },
            "type": "scatter3d"
           }
          ],
          "scattercarpet": [
           {
            "marker": {
             "colorbar": {
              "outlinewidth": 0,
              "ticks": ""
             }
            },
            "type": "scattercarpet"
           }
          ],
          "scattergeo": [
           {
            "marker": {
             "colorbar": {
              "outlinewidth": 0,
              "ticks": ""
             }
            },
            "type": "scattergeo"
           }
          ],
          "scattergl": [
           {
            "marker": {
             "colorbar": {
              "outlinewidth": 0,
              "ticks": ""
             }
            },
            "type": "scattergl"
           }
          ],
          "scattermap": [
           {
            "marker": {
             "colorbar": {
              "outlinewidth": 0,
              "ticks": ""
             }
            },
            "type": "scattermap"
           }
          ],
          "scattermapbox": [
           {
            "marker": {
             "colorbar": {
              "outlinewidth": 0,
              "ticks": ""
             }
            },
            "type": "scattermapbox"
           }
          ],
          "scatterpolar": [
           {
            "marker": {
             "colorbar": {
              "outlinewidth": 0,
              "ticks": ""
             }
            },
            "type": "scatterpolar"
           }
          ],
          "scatterpolargl": [
           {
            "marker": {
             "colorbar": {
              "outlinewidth": 0,
              "ticks": ""
             }
            },
            "type": "scatterpolargl"
           }
          ],
          "scatterternary": [
           {
            "marker": {
             "colorbar": {
              "outlinewidth": 0,
              "ticks": ""
             }
            },
            "type": "scatterternary"
           }
          ],
          "surface": [
           {
            "colorbar": {
             "outlinewidth": 0,
             "ticks": ""
            },
            "colorscale": [
             [
              0,
              "#0d0887"
             ],
             [
              0.1111111111111111,
              "#46039f"
             ],
             [
              0.2222222222222222,
              "#7201a8"
             ],
             [
              0.3333333333333333,
              "#9c179e"
             ],
             [
              0.4444444444444444,
              "#bd3786"
             ],
             [
              0.5555555555555556,
              "#d8576b"
             ],
             [
              0.6666666666666666,
              "#ed7953"
             ],
             [
              0.7777777777777778,
              "#fb9f3a"
             ],
             [
              0.8888888888888888,
              "#fdca26"
             ],
             [
              1,
              "#f0f921"
             ]
            ],
            "type": "surface"
           }
          ],
          "table": [
           {
            "cells": {
             "fill": {
              "color": "#EBF0F8"
             },
             "line": {
              "color": "white"
             }
            },
            "header": {
             "fill": {
              "color": "#C8D4E3"
             },
             "line": {
              "color": "white"
             }
            },
            "type": "table"
           }
          ]
         },
         "layout": {
          "annotationdefaults": {
           "arrowcolor": "#2a3f5f",
           "arrowhead": 0,
           "arrowwidth": 1
          },
          "autotypenumbers": "strict",
          "coloraxis": {
           "colorbar": {
            "outlinewidth": 0,
            "ticks": ""
           }
          },
          "colorscale": {
           "diverging": [
            [
             0,
             "#8e0152"
            ],
            [
             0.1,
             "#c51b7d"
            ],
            [
             0.2,
             "#de77ae"
            ],
            [
             0.3,
             "#f1b6da"
            ],
            [
             0.4,
             "#fde0ef"
            ],
            [
             0.5,
             "#f7f7f7"
            ],
            [
             0.6,
             "#e6f5d0"
            ],
            [
             0.7,
             "#b8e186"
            ],
            [
             0.8,
             "#7fbc41"
            ],
            [
             0.9,
             "#4d9221"
            ],
            [
             1,
             "#276419"
            ]
           ],
           "sequential": [
            [
             0,
             "#0d0887"
            ],
            [
             0.1111111111111111,
             "#46039f"
            ],
            [
             0.2222222222222222,
             "#7201a8"
            ],
            [
             0.3333333333333333,
             "#9c179e"
            ],
            [
             0.4444444444444444,
             "#bd3786"
            ],
            [
             0.5555555555555556,
             "#d8576b"
            ],
            [
             0.6666666666666666,
             "#ed7953"
            ],
            [
             0.7777777777777778,
             "#fb9f3a"
            ],
            [
             0.8888888888888888,
             "#fdca26"
            ],
            [
             1,
             "#f0f921"
            ]
           ],
           "sequentialminus": [
            [
             0,
             "#0d0887"
            ],
            [
             0.1111111111111111,
             "#46039f"
            ],
            [
             0.2222222222222222,
             "#7201a8"
            ],
            [
             0.3333333333333333,
             "#9c179e"
            ],
            [
             0.4444444444444444,
             "#bd3786"
            ],
            [
             0.5555555555555556,
             "#d8576b"
            ],
            [
             0.6666666666666666,
             "#ed7953"
            ],
            [
             0.7777777777777778,
             "#fb9f3a"
            ],
            [
             0.8888888888888888,
             "#fdca26"
            ],
            [
             1,
             "#f0f921"
            ]
           ]
          },
          "colorway": [
           "#636efa",
           "#EF553B",
           "#00cc96",
           "#ab63fa",
           "#FFA15A",
           "#19d3f3",
           "#FF6692",
           "#B6E880",
           "#FF97FF",
           "#FECB52"
          ],
          "font": {
           "color": "#2a3f5f"
          },
          "geo": {
           "bgcolor": "white",
           "lakecolor": "white",
           "landcolor": "#E5ECF6",
           "showlakes": true,
           "showland": true,
           "subunitcolor": "white"
          },
          "hoverlabel": {
           "align": "left"
          },
          "hovermode": "closest",
          "mapbox": {
           "style": "light"
          },
          "paper_bgcolor": "white",
          "plot_bgcolor": "#E5ECF6",
          "polar": {
           "angularaxis": {
            "gridcolor": "white",
            "linecolor": "white",
            "ticks": ""
           },
           "bgcolor": "#E5ECF6",
           "radialaxis": {
            "gridcolor": "white",
            "linecolor": "white",
            "ticks": ""
           }
          },
          "scene": {
           "xaxis": {
            "backgroundcolor": "#E5ECF6",
            "gridcolor": "white",
            "gridwidth": 2,
            "linecolor": "white",
            "showbackground": true,
            "ticks": "",
            "zerolinecolor": "white"
           },
           "yaxis": {
            "backgroundcolor": "#E5ECF6",
            "gridcolor": "white",
            "gridwidth": 2,
            "linecolor": "white",
            "showbackground": true,
            "ticks": "",
            "zerolinecolor": "white"
           },
           "zaxis": {
            "backgroundcolor": "#E5ECF6",
            "gridcolor": "white",
            "gridwidth": 2,
            "linecolor": "white",
            "showbackground": true,
            "ticks": "",
            "zerolinecolor": "white"
           }
          },
          "shapedefaults": {
           "line": {
            "color": "#2a3f5f"
           }
          },
          "ternary": {
           "aaxis": {
            "gridcolor": "white",
            "linecolor": "white",
            "ticks": ""
           },
           "baxis": {
            "gridcolor": "white",
            "linecolor": "white",
            "ticks": ""
           },
           "bgcolor": "#E5ECF6",
           "caxis": {
            "gridcolor": "white",
            "linecolor": "white",
            "ticks": ""
           }
          },
          "title": {
           "x": 0.05
          },
          "xaxis": {
           "automargin": true,
           "gridcolor": "white",
           "linecolor": "white",
           "ticks": "",
           "title": {
            "standoff": 15
           },
           "zerolinecolor": "white",
           "zerolinewidth": 2
          },
          "yaxis": {
           "automargin": true,
           "gridcolor": "white",
           "linecolor": "white",
           "ticks": "",
           "title": {
            "standoff": 15
           },
           "zerolinecolor": "white",
           "zerolinewidth": 2
          }
         }
        },
        "xaxis": {
         "anchor": "y",
         "domain": [
          0,
          1
         ],
         "title": {
          "text": "index"
         }
        },
        "yaxis": {
         "anchor": "x",
         "domain": [
          0,
          1
         ],
         "title": {
          "text": "value"
         }
        }
       }
      },
      "image/png": "[encoded data removed]"
     },
     "metadata": {},
     "output_type": "display_data"
    }
   ],
   "source": [
    "px.line(df['Korea'])"
   ]
  },
  {
   "cell_type": "code",
   "execution_count": 88,
   "id": "d4e0dfec-e7e9-48df-a52c-800bf984e9ba",
   "metadata": {},
   "outputs": [
    {
     "data": {
      "text/plain": [
       "Year     0\n",
       "Month    0\n",
       "Korea    0\n",
       "dtype: int64"
      ]
     },
     "execution_count": 88,
     "metadata": {},
     "output_type": "execute_result"
    }
   ],
   "source": [
    "df.isnull().sum()"
   ]
  },
  {
   "cell_type": "code",
   "execution_count": 89,
   "id": "acc29f3d-f031-42e9-8282-9cd0915a6287",
   "metadata": {},
   "outputs": [
    {
     "data": {
      "text/plain": [
       "count      642.000000\n",
       "mean      2524.034268\n",
       "std       2116.431343\n",
       "min         10.000000\n",
       "25%        356.250000\n",
       "50%       1909.000000\n",
       "75%       4503.750000\n",
       "max      10286.000000\n",
       "Name: Korea, dtype: float64"
      ]
     },
     "execution_count": 89,
     "metadata": {},
     "output_type": "execute_result"
    }
   ],
   "source": [
    "df['Korea'].describe()"
   ]
  },
  {
   "cell_type": "code",
   "execution_count": 90,
   "id": "96a9a1e2-2aea-4fd5-8b4f-5c30e43bb724",
   "metadata": {},
   "outputs": [
    {
     "data": {
      "application/vnd.plotly.v1+json": {
       "config": {
        "plotlyServerURL": "https://plot.ly"
       },
       "data": [
        {
         "alignmentgroup": "True",
         "hovertemplate": "variable=%{x}<br>value=%{y}<extra></extra>",
         "legendgroup": "",
         "marker": {
          "color": "#636efa"
         },
         "name": "",
         "notched": false,
         "offsetgroup": "",
         "orientation": "v",
         "showlegend": false,
         "type": "box",
         "x": [
          "Korea",
          "Korea",
          "Korea",
          "Korea",
          "Korea",
          "Korea",
          "Korea",
          "Korea",
          "Korea",
          "Korea",
          "Korea",
          "Korea",
          "Korea",
          "Korea",
          "Korea",
          "Korea",
          "Korea",
          "Korea",
          "Korea",
          "Korea",
          "Korea",
          "Korea",
          "Korea",
          "Korea",
          "Korea",
          "Korea",
          "Korea",
          "Korea",
          "Korea",
          "Korea",
          "Korea",
          "Korea",
          "Korea",
          "Korea",
          "Korea",
          "Korea",
          "Korea",
          "Korea",
          "Korea",
          "Korea",
          "Korea",
          "Korea",
          "Korea",
          "Korea",
          "Korea",
          "Korea",
          "Korea",
          "Korea",
          "Korea",
          "Korea",
          "Korea",
          "Korea",
          "Korea",
          "Korea",
          "Korea",
          "Korea",
          "Korea",
          "Korea",
          "Korea",
          "Korea",
          "Korea",
          "Korea",
          "Korea",
          "Korea",
          "Korea",
          "Korea",
          "Korea",
          "Korea",
          "Korea",
          "Korea",
          "Korea",
          "Korea",
          "Korea",
          "Korea",
          "Korea",
          "Korea",
          "Korea",
          "Korea",
          "Korea",
          "Korea",
          "Korea",
          "Korea",
          "Korea",
          "Korea",
          "Korea",
          "Korea",
          "Korea",
          "Korea",
          "Korea",
          "Korea",
          "Korea",
          "Korea",
          "Korea",
          "Korea",
          "Korea",
          "Korea",
          "Korea",
          "Korea",
          "Korea",
          "Korea",
          "Korea",
          "Korea",
          "Korea",
          "Korea",
          "Korea",
          "Korea",
          "Korea",
          "Korea",
          "Korea",
          "Korea",
          "Korea",
          "Korea",
          "Korea",
          "Korea",
          "Korea",
          "Korea",
          "Korea",
          "Korea",
          "Korea",
          "Korea",
          "Korea",
          "Korea",
          "Korea",
          "Korea",
          "Korea",
          "Korea",
          "Korea",
          "Korea",
          "Korea",
          "Korea",
          "Korea",
          "Korea",
          "Korea",
          "Korea",
          "Korea",
          "Korea",
          "Korea",
          "Korea",
          "Korea",
          "Korea",
          "Korea",
          "Korea",
          "Korea",
          "Korea",
          "Korea",
          "Korea",
          "Korea",
          "Korea",
          "Korea",
          "Korea",
          "Korea",
          "Korea",
          "Korea",
          "Korea",
          "Korea",
          "Korea",
          "Korea",
          "Korea",
          "Korea",
          "Korea",
          "Korea",
          "Korea",
          "Korea",
          "Korea",
          "Korea",
          "Korea",
          "Korea",
          "Korea",
          "Korea",
          "Korea",
          "Korea",
          "Korea",
          "Korea",
          "Korea",
          "Korea",
          "Korea",
          "Korea",
          "Korea",
          "Korea",
          "Korea",
          "Korea",
          "Korea",
          "Korea",
          "Korea",
          "Korea",
          "Korea",
          "Korea",
          "Korea",
          "Korea",
          "Korea",
          "Korea",
          "Korea",
          "Korea",
          "Korea",
          "Korea",
          "Korea",
          "Korea",
          "Korea",
          "Korea",
          "Korea",
          "Korea",
          "Korea",
          "Korea",
          "Korea",
          "Korea",
          "Korea",
          "Korea",
          "Korea",
          "Korea",
          "Korea",
          "Korea",
          "Korea",
          "Korea",
          "Korea",
          "Korea",
          "Korea",
          "Korea",
          "Korea",
          "Korea",
          "Korea",
          "Korea",
          "Korea",
          "Korea",
          "Korea",
          "Korea",
          "Korea",
          "Korea",
          "Korea",
          "Korea",
          "Korea",
          "Korea",
          "Korea",
          "Korea",
          "Korea",
          "Korea",
          "Korea",
          "Korea",
          "Korea",
          "Korea",
          "Korea",
          "Korea",
          "Korea",
          "Korea",
          "Korea",
          "Korea",
          "Korea",
          "Korea",
          "Korea",
          "Korea",
          "Korea",
          "Korea",
          "Korea",
          "Korea",
          "Korea",
          "Korea",
          "Korea",
          "Korea",
          "Korea",
          "Korea",
          "Korea",
          "Korea",
          "Korea",
          "Korea",
          "Korea",
          "Korea",
          "Korea",
          "Korea",
          "Korea",
          "Korea",
          "Korea",
          "Korea",
          "Korea",
          "Korea",
          "Korea",
          "Korea",
          "Korea",
          "Korea",
          "Korea",
          "Korea",
          "Korea",
          "Korea",
          "Korea",
          "Korea",
          "Korea",
          "Korea",
          "Korea",
          "Korea",
          "Korea",
          "Korea",
          "Korea",
          "Korea",
          "Korea",
          "Korea",
          "Korea",
          "Korea",
          "Korea",
          "Korea",
          "Korea",
          "Korea",
          "Korea",
          "Korea",
          "Korea",
          "Korea",
          "Korea",
          "Korea",
          "Korea",
          "Korea",
          "Korea",
          "Korea",
          "Korea",
          "Korea",
          "Korea",
          "Korea",
          "Korea",
          "Korea",
          "Korea",
          "Korea",
          "Korea",
          "Korea",
          "Korea",
          "Korea",
          "Korea",
          "Korea",
          "Korea",
          "Korea",
          "Korea",
          "Korea",
          "Korea",
          "Korea",
          "Korea",
          "Korea",
          "Korea",
          "Korea",
          "Korea",
          "Korea",
          "Korea",
          "Korea",
          "Korea",
          "Korea",
          "Korea",
          "Korea",
          "Korea",
          "Korea",
          "Korea",
          "Korea",
          "Korea",
          "Korea",
          "Korea",
          "Korea",
          "Korea",
          "Korea",
          "Korea",
          "Korea",
          "Korea",
          "Korea",
          "Korea",
          "Korea",
          "Korea",
          "Korea",
          "Korea",
          "Korea",
          "Korea",
          "Korea",
          "Korea",
          "Korea",
          "Korea",
          "Korea",
          "Korea",
          "Korea",
          "Korea",
          "Korea",
          "Korea",
          "Korea",
          "Korea",
          "Korea",
          "Korea",
          "Korea",
          "Korea",
          "Korea",
          "Korea",
          "Korea",
          "Korea",
          "Korea",
          "Korea",
          "Korea",
          "Korea",
          "Korea",
          "Korea",
          "Korea",
          "Korea",
          "Korea",
          "Korea",
          "Korea",
          "Korea",
          "Korea",
          "Korea",
          "Korea",
          "Korea",
          "Korea",
          "Korea",
          "Korea",
          "Korea",
          "Korea",
          "Korea",
          "Korea",
          "Korea",
          "Korea",
          "Korea",
          "Korea",
          "Korea",
          "Korea",
          "Korea",
          "Korea",
          "Korea",
          "Korea",
          "Korea",
          "Korea",
          "Korea",
          "Korea",
          "Korea",
          "Korea",
          "Korea",
          "Korea",
          "Korea",
          "Korea",
          "Korea",
          "Korea",
          "Korea",
          "Korea",
          "Korea",
          "Korea",
          "Korea",
          "Korea",
          "Korea",
          "Korea",
          "Korea",
          "Korea",
          "Korea",
          "Korea",
          "Korea",
          "Korea",
          "Korea",
          "Korea",
          "Korea",
          "Korea",
          "Korea",
          "Korea",
          "Korea",
          "Korea",
          "Korea",
          "Korea",
          "Korea",
          "Korea",
          "Korea",
          "Korea",
          "Korea",
          "Korea",
          "Korea",
          "Korea",
          "Korea",
          "Korea",
          "Korea",
          "Korea",
          "Korea",
          "Korea",
          "Korea",
          "Korea",
          "Korea",
          "Korea",
          "Korea",
          "Korea",
          "Korea",
          "Korea",
          "Korea",
          "Korea",
          "Korea",
          "Korea",
          "Korea",
          "Korea",
          "Korea",
          "Korea",
          "Korea",
          "Korea",
          "Korea",
          "Korea",
          "Korea",
          "Korea",
          "Korea",
          "Korea",
          "Korea",
          "Korea",
          "Korea",
          "Korea",
          "Korea",
          "Korea",
          "Korea",
          "Korea",
          "Korea",
          "Korea",
          "Korea",
          "Korea",
          "Korea",
          "Korea",
          "Korea",
          "Korea",
          "Korea",
          "Korea",
          "Korea",
          "Korea",
          "Korea",
          "Korea",
          "Korea",
          "Korea",
          "Korea",
          "Korea",
          "Korea",
          "Korea",
          "Korea",
          "Korea",
          "Korea",
          "Korea",
          "Korea",
          "Korea",
          "Korea",
          "Korea",
          "Korea",
          "Korea",
          "Korea",
          "Korea",
          "Korea",
          "Korea",
          "Korea",
          "Korea",
          "Korea",
          "Korea",
          "Korea",
          "Korea",
          "Korea",
          "Korea",
          "Korea",
          "Korea",
          "Korea",
          "Korea",
          "Korea",
          "Korea",
          "Korea",
          "Korea",
          "Korea",
          "Korea",
          "Korea",
          "Korea",
          "Korea",
          "Korea",
          "Korea",
          "Korea",
          "Korea",
          "Korea",
          "Korea",
          "Korea",
          "Korea",
          "Korea",
          "Korea",
          "Korea",
          "Korea",
          "Korea",
          "Korea",
          "Korea",
          "Korea",
          "Korea",
          "Korea",
          "Korea",
          "Korea",
          "Korea",
          "Korea",
          "Korea",
          "Korea",
          "Korea",
          "Korea",
          "Korea",
          "Korea",
          "Korea",
          "Korea",
          "Korea",
          "Korea",
          "Korea",
          "Korea",
          "Korea",
          "Korea",
          "Korea",
          "Korea",
          "Korea",
          "Korea",
          "Korea",
          "Korea",
          "Korea",
          "Korea",
          "Korea",
          "Korea",
          "Korea",
          "Korea",
          "Korea",
          "Korea",
          "Korea",
          "Korea",
          "Korea",
          "Korea",
          "Korea",
          "Korea",
          "Korea",
          "Korea",
          "Korea",
          "Korea",
          "Korea",
          "Korea",
          "Korea",
          "Korea",
          "Korea",
          "Korea",
          "Korea",
          "Korea",
          "Korea",
          "Korea",
          "Korea",
          "Korea",
          "Korea",
          "Korea",
          "Korea",
          "Korea",
          "Korea",
          "Korea",
          "Korea",
          "Korea",
          "Korea",
          "Korea",
          "Korea",
          "Korea",
          "Korea",
          "Korea",
          "Korea",
          "Korea",
          "Korea",
          "Korea"
         ],
         "x0": " ",
         "xaxis": "x",
         "y": {
          "bdata": "CgANAAsADQANAA4ADAAOABMAEgAWABMAEgAPABwAEgAdAB4AGgAaADYAMQAxACkAIwAqADEAJAAmACEAFAAVABsAFAAZABwAFwASABwAIAAaABYAHAAdABcAHQAnACAAIgAnACEALAAxACcAIwAlACkAIgApADIAKAAoAC0AKgBBACwAKwAqADEAMQAuAC0ALAAqAD4AOABHAEAANgA6AD8AOwBLAEoARgBYAE0AXQBeAFQATgBKAGEAWABkAFEAVgBfAGkAXgBvAFkAZQBTAF4AUwBaAGQAdABgAIEAfQCTAJIAdgCWAJcAgwCZAJIAfACgALgAkgCnAJAAjACjALYAmAC4AMkAqACnAOwA6ADsAPgA5wDgAOsA/AAGARIBGgEHAU0BSgFqAW0BZQE8AUMBMwE9ASkBUAEQAVsBQQFKARoBZAF6AZ8BMQHGAbgBlgF0AdwBFQIXAi8CcwL+ASUCXAKXAocCjgKVAiUDQQOGA1gDfAM+AxMDUQNmA8QDbwMABDIEHwRmBEoErgRnBFcETgR0BE0EZwR2BNsEoQXdBC8FKgXUBGQE8wQIBZgEZARBBAgFHwV8BaEEsQSlBIUEOgWlBWcE7wT1AwgFrgVbBl0F+QUxBcAFVgVoBRcFLgM5BVwFbAWJBdMEzgR5BMwEKwXXBPsEngN/BWEFLwYVBswEUAZNBVYGdAYKBlgG7QQZBZEGFAaLBnsGbgavBf8FcwZaBgYGVgYdBhQH5wZfB9EGcwdQB3kHMAc1B3kH/AbwBT0H8QclCD4H2QfvB5wHKQi7BuYGKgduBo8Hzwc1B1oGpwexB/4G7geqBh8F3QMyBGEEMgVwBFYE6gMPBC4EUQQyBdoFKQZSBfoG2wbCBscGZwfHBncHggaNB7gI1AgWCF8KsgjNCPgIQAmfCe0JOwp2CcUJagidCNEIsAiJCFUHCwjnB7sI8ggXCVEIrgjDCJALWAmSCaAIEQqRCe4JNQtGC2MKhgr7CbULfgtJCz8LbAuHC8ULPA1PDH0M3AvxDbMP0w45DroN/g0fDrkObw9UDl4PuQ95DFgPDQ9jD2wOvA4EENcQtRLvEdgPyBB6D2wSxhBDEEgQ+BCyEZQRsRE4EU4PYA9IDjsSNhGUEU4RXBAtEpUSaxJIEiARyhEND10RjhK4EJMP7hItELYPTxEYDZYLTAzdCvILdQ0cDYQNiA+/DqcP8Q9PDzAQ6w8mDhYSQxGXEGQRiBGPEvARahFbEskUzRRDES4V0hLBFBcViBMAFooTABXcEY0TmROYE+gRaxNQE6ES/xJGFIUTKxLyEhoUGRTZEKwVBhQwFCwUTRJyFMQYRRdUFtYWvhYDDxkVgBNnFGgVZRabFrETxBQGFC4SVxOcEPQTfhEbE1IQ1hB9EucRLxE4EYcQhxDMDe0QPhK/EngQmRETE4ISlxCTEkQUHxRWEPIRwhH+EAwSfxJ9EdkTuRG2Ez4VSBLAEHASZhHSESkSwBPlEc4VRxSrE0gUqROzEOoS7hIwFqUQ+RIBFCoQVxHHEvIQthAIDlwSrBEbEg0OLw8xEv8QBRDPElgUBxVPFbkXBhUpFQ0XPxtuGf8aAhjYGrsdmR0eFHgXAxpKG2obCRwuKNQT9Bh9GHYbcRUlGvMayBgdFwwYKBf+GVgYyBd6F+AUOhUKFUwayxmFGHgUThaiGOASNRRkFowV8RcVE1AU6xJAEj0S",
          "dtype": "i2"
         },
         "y0": " ",
         "yaxis": "y"
        }
       ],
       "layout": {
        "boxmode": "group",
        "legend": {
         "tracegroupgap": 0
        },
        "margin": {
         "t": 60
        },
        "template": {
         "data": {
          "bar": [
           {
            "error_x": {
             "color": "#2a3f5f"
            },
            "error_y": {
             "color": "#2a3f5f"
            },
            "marker": {
             "line": {
              "color": "#E5ECF6",
              "width": 0.5
             },
             "pattern": {
              "fillmode": "overlay",
              "size": 10,
              "solidity": 0.2
             }
            },
            "type": "bar"
           }
          ],
          "barpolar": [
           {
            "marker": {
             "line": {
              "color": "#E5ECF6",
              "width": 0.5
             },
             "pattern": {
              "fillmode": "overlay",
              "size": 10,
              "solidity": 0.2
             }
            },
            "type": "barpolar"
           }
          ],
          "carpet": [
           {
            "aaxis": {
             "endlinecolor": "#2a3f5f",
             "gridcolor": "white",
             "linecolor": "white",
             "minorgridcolor": "white",
             "startlinecolor": "#2a3f5f"
            },
            "baxis": {
             "endlinecolor": "#2a3f5f",
             "gridcolor": "white",
             "linecolor": "white",
             "minorgridcolor": "white",
             "startlinecolor": "#2a3f5f"
            },
            "type": "carpet"
           }
          ],
          "choropleth": [
           {
            "colorbar": {
             "outlinewidth": 0,
             "ticks": ""
            },
            "type": "choropleth"
           }
          ],
          "contour": [
           {
            "colorbar": {
             "outlinewidth": 0,
             "ticks": ""
            },
            "colorscale": [
             [
              0,
              "#0d0887"
             ],
             [
              0.1111111111111111,
              "#46039f"
             ],
             [
              0.2222222222222222,
              "#7201a8"
             ],
             [
              0.3333333333333333,
              "#9c179e"
             ],
             [
              0.4444444444444444,
              "#bd3786"
             ],
             [
              0.5555555555555556,
              "#d8576b"
             ],
             [
              0.6666666666666666,
              "#ed7953"
             ],
             [
              0.7777777777777778,
              "#fb9f3a"
             ],
             [
              0.8888888888888888,
              "#fdca26"
             ],
             [
              1,
              "#f0f921"
             ]
            ],
            "type": "contour"
           }
          ],
          "contourcarpet": [
           {
            "colorbar": {
             "outlinewidth": 0,
             "ticks": ""
            },
            "type": "contourcarpet"
           }
          ],
          "heatmap": [
           {
            "colorbar": {
             "outlinewidth": 0,
             "ticks": ""
            },
            "colorscale": [
             [
              0,
              "#0d0887"
             ],
             [
              0.1111111111111111,
              "#46039f"
             ],
             [
              0.2222222222222222,
              "#7201a8"
             ],
             [
              0.3333333333333333,
              "#9c179e"
             ],
             [
              0.4444444444444444,
              "#bd3786"
             ],
             [
              0.5555555555555556,
              "#d8576b"
             ],
             [
              0.6666666666666666,
              "#ed7953"
             ],
             [
              0.7777777777777778,
              "#fb9f3a"
             ],
             [
              0.8888888888888888,
              "#fdca26"
             ],
             [
              1,
              "#f0f921"
             ]
            ],
            "type": "heatmap"
           }
          ],
          "histogram": [
           {
            "marker": {
             "pattern": {
              "fillmode": "overlay",
              "size": 10,
              "solidity": 0.2
             }
            },
            "type": "histogram"
           }
          ],
          "histogram2d": [
           {
            "colorbar": {
             "outlinewidth": 0,
             "ticks": ""
            },
            "colorscale": [
             [
              0,
              "#0d0887"
             ],
             [
              0.1111111111111111,
              "#46039f"
             ],
             [
              0.2222222222222222,
              "#7201a8"
             ],
             [
              0.3333333333333333,
              "#9c179e"
             ],
             [
              0.4444444444444444,
              "#bd3786"
             ],
             [
              0.5555555555555556,
              "#d8576b"
             ],
             [
              0.6666666666666666,
              "#ed7953"
             ],
             [
              0.7777777777777778,
              "#fb9f3a"
             ],
             [
              0.8888888888888888,
              "#fdca26"
             ],
             [
              1,
              "#f0f921"
             ]
            ],
            "type": "histogram2d"
           }
          ],
          "histogram2dcontour": [
           {
            "colorbar": {
             "outlinewidth": 0,
             "ticks": ""
            },
            "colorscale": [
             [
              0,
              "#0d0887"
             ],
             [
              0.1111111111111111,
              "#46039f"
             ],
             [
              0.2222222222222222,
              "#7201a8"
             ],
             [
              0.3333333333333333,
              "#9c179e"
             ],
             [
              0.4444444444444444,
              "#bd3786"
             ],
             [
              0.5555555555555556,
              "#d8576b"
             ],
             [
              0.6666666666666666,
              "#ed7953"
             ],
             [
              0.7777777777777778,
              "#fb9f3a"
             ],
             [
              0.8888888888888888,
              "#fdca26"
             ],
             [
              1,
              "#f0f921"
             ]
            ],
            "type": "histogram2dcontour"
           }
          ],
          "mesh3d": [
           {
            "colorbar": {
             "outlinewidth": 0,
             "ticks": ""
            },
            "type": "mesh3d"
           }
          ],
          "parcoords": [
           {
            "line": {
             "colorbar": {
              "outlinewidth": 0,
              "ticks": ""
             }
            },
            "type": "parcoords"
           }
          ],
          "pie": [
           {
            "automargin": true,
            "type": "pie"
           }
          ],
          "scatter": [
           {
            "fillpattern": {
             "fillmode": "overlay",
             "size": 10,
             "solidity": 0.2
            },
            "type": "scatter"
           }
          ],
          "scatter3d": [
           {
            "line": {
             "colorbar": {
              "outlinewidth": 0,
              "ticks": ""
             }
            },
            "marker": {
             "colorbar": {
              "outlinewidth": 0,
              "ticks": ""
             }
            },
            "type": "scatter3d"
           }
          ],
          "scattercarpet": [
           {
            "marker": {
             "colorbar": {
              "outlinewidth": 0,
              "ticks": ""
             }
            },
            "type": "scattercarpet"
           }
          ],
          "scattergeo": [
           {
            "marker": {
             "colorbar": {
              "outlinewidth": 0,
              "ticks": ""
             }
            },
            "type": "scattergeo"
           }
          ],
          "scattergl": [
           {
            "marker": {
             "colorbar": {
              "outlinewidth": 0,
              "ticks": ""
             }
            },
            "type": "scattergl"
           }
          ],
          "scattermap": [
           {
            "marker": {
             "colorbar": {
              "outlinewidth": 0,
              "ticks": ""
             }
            },
            "type": "scattermap"
           }
          ],
          "scattermapbox": [
           {
            "marker": {
             "colorbar": {
              "outlinewidth": 0,
              "ticks": ""
             }
            },
            "type": "scattermapbox"
           }
          ],
          "scatterpolar": [
           {
            "marker": {
             "colorbar": {
              "outlinewidth": 0,
              "ticks": ""
             }
            },
            "type": "scatterpolar"
           }
          ],
          "scatterpolargl": [
           {
            "marker": {
             "colorbar": {
              "outlinewidth": 0,
              "ticks": ""
             }
            },
            "type": "scatterpolargl"
           }
          ],
          "scatterternary": [
           {
            "marker": {
             "colorbar": {
              "outlinewidth": 0,
              "ticks": ""
             }
            },
            "type": "scatterternary"
           }
          ],
          "surface": [
           {
            "colorbar": {
             "outlinewidth": 0,
             "ticks": ""
            },
            "colorscale": [
             [
              0,
              "#0d0887"
             ],
             [
              0.1111111111111111,
              "#46039f"
             ],
             [
              0.2222222222222222,
              "#7201a8"
             ],
             [
              0.3333333333333333,
              "#9c179e"
             ],
             [
              0.4444444444444444,
              "#bd3786"
             ],
             [
              0.5555555555555556,
              "#d8576b"
             ],
             [
              0.6666666666666666,
              "#ed7953"
             ],
             [
              0.7777777777777778,
              "#fb9f3a"
             ],
             [
              0.8888888888888888,
              "#fdca26"
             ],
             [
              1,
              "#f0f921"
             ]
            ],
            "type": "surface"
           }
          ],
          "table": [
           {
            "cells": {
             "fill": {
              "color": "#EBF0F8"
             },
             "line": {
              "color": "white"
             }
            },
            "header": {
             "fill": {
              "color": "#C8D4E3"
             },
             "line": {
              "color": "white"
             }
            },
            "type": "table"
           }
          ]
         },
         "layout": {
          "annotationdefaults": {
           "arrowcolor": "#2a3f5f",
           "arrowhead": 0,
           "arrowwidth": 1
          },
          "autotypenumbers": "strict",
          "coloraxis": {
           "colorbar": {
            "outlinewidth": 0,
            "ticks": ""
           }
          },
          "colorscale": {
           "diverging": [
            [
             0,
             "#8e0152"
            ],
            [
             0.1,
             "#c51b7d"
            ],
            [
             0.2,
             "#de77ae"
            ],
            [
             0.3,
             "#f1b6da"
            ],
            [
             0.4,
             "#fde0ef"
            ],
            [
             0.5,
             "#f7f7f7"
            ],
            [
             0.6,
             "#e6f5d0"
            ],
            [
             0.7,
             "#b8e186"
            ],
            [
             0.8,
             "#7fbc41"
            ],
            [
             0.9,
             "#4d9221"
            ],
            [
             1,
             "#276419"
            ]
           ],
           "sequential": [
            [
             0,
             "#0d0887"
            ],
            [
             0.1111111111111111,
             "#46039f"
            ],
            [
             0.2222222222222222,
             "#7201a8"
            ],
            [
             0.3333333333333333,
             "#9c179e"
            ],
            [
             0.4444444444444444,
             "#bd3786"
            ],
            [
             0.5555555555555556,
             "#d8576b"
            ],
            [
             0.6666666666666666,
             "#ed7953"
            ],
            [
             0.7777777777777778,
             "#fb9f3a"
            ],
            [
             0.8888888888888888,
             "#fdca26"
            ],
            [
             1,
             "#f0f921"
            ]
           ],
           "sequentialminus": [
            [
             0,
             "#0d0887"
            ],
            [
             0.1111111111111111,
             "#46039f"
            ],
            [
             0.2222222222222222,
             "#7201a8"
            ],
            [
             0.3333333333333333,
             "#9c179e"
            ],
            [
             0.4444444444444444,
             "#bd3786"
            ],
            [
             0.5555555555555556,
             "#d8576b"
            ],
            [
             0.6666666666666666,
             "#ed7953"
            ],
            [
             0.7777777777777778,
             "#fb9f3a"
            ],
            [
             0.8888888888888888,
             "#fdca26"
            ],
            [
             1,
             "#f0f921"
            ]
           ]
          },
          "colorway": [
           "#636efa",
           "#EF553B",
           "#00cc96",
           "#ab63fa",
           "#FFA15A",
           "#19d3f3",
           "#FF6692",
           "#B6E880",
           "#FF97FF",
           "#FECB52"
          ],
          "font": {
           "color": "#2a3f5f"
          },
          "geo": {
           "bgcolor": "white",
           "lakecolor": "white",
           "landcolor": "#E5ECF6",
           "showlakes": true,
           "showland": true,
           "subunitcolor": "white"
          },
          "hoverlabel": {
           "align": "left"
          },
          "hovermode": "closest",
          "mapbox": {
           "style": "light"
          },
          "paper_bgcolor": "white",
          "plot_bgcolor": "#E5ECF6",
          "polar": {
           "angularaxis": {
            "gridcolor": "white",
            "linecolor": "white",
            "ticks": ""
           },
           "bgcolor": "#E5ECF6",
           "radialaxis": {
            "gridcolor": "white",
            "linecolor": "white",
            "ticks": ""
           }
          },
          "scene": {
           "xaxis": {
            "backgroundcolor": "#E5ECF6",
            "gridcolor": "white",
            "gridwidth": 2,
            "linecolor": "white",
            "showbackground": true,
            "ticks": "",
            "zerolinecolor": "white"
           },
           "yaxis": {
            "backgroundcolor": "#E5ECF6",
            "gridcolor": "white",
            "gridwidth": 2,
            "linecolor": "white",
            "showbackground": true,
            "ticks": "",
            "zerolinecolor": "white"
           },
           "zaxis": {
            "backgroundcolor": "#E5ECF6",
            "gridcolor": "white",
            "gridwidth": 2,
            "linecolor": "white",
            "showbackground": true,
            "ticks": "",
            "zerolinecolor": "white"
           }
          },
          "shapedefaults": {
           "line": {
            "color": "#2a3f5f"
           }
          },
          "ternary": {
           "aaxis": {
            "gridcolor": "white",
            "linecolor": "white",
            "ticks": ""
           },
           "baxis": {
            "gridcolor": "white",
            "linecolor": "white",
            "ticks": ""
           },
           "bgcolor": "#E5ECF6",
           "caxis": {
            "gridcolor": "white",
            "linecolor": "white",
            "ticks": ""
           }
          },
          "title": {
           "x": 0.05
          },
          "xaxis": {
           "automargin": true,
           "gridcolor": "white",
           "linecolor": "white",
           "ticks": "",
           "title": {
            "standoff": 15
           },
           "zerolinecolor": "white",
           "zerolinewidth": 2
          },
          "yaxis": {
           "automargin": true,
           "gridcolor": "white",
           "linecolor": "white",
           "ticks": "",
           "title": {
            "standoff": 15
           },
           "zerolinecolor": "white",
           "zerolinewidth": 2
          }
         }
        },
        "xaxis": {
         "anchor": "y",
         "domain": [
          0,
          1
         ],
         "title": {
          "text": "variable"
         }
        },
        "yaxis": {
         "anchor": "x",
         "domain": [
          0,
          1
         ],
         "title": {
          "text": "value"
         }
        }
       }
      },
      "image/png": "[encoded data removed]"
     },
     "metadata": {},
     "output_type": "display_data"
    }
   ],
   "source": [
    "px.box(df['Korea'])"
   ]
  },
  {
   "cell_type": "markdown",
   "id": "de2b14b5-befc-42ce-9ced-8fca730ade89",
   "metadata": {},
   "source": [
    "### 4"
   ]
  },
  {
   "cell_type": "code",
   "execution_count": 91,
   "id": "f0b542c5-fac5-4225-b654-b964c987d947",
   "metadata": {},
   "outputs": [
    {
     "data": {
      "text/html": [
       "<div>\n",
       "<style scoped>\n",
       "    .dataframe tbody tr th:only-of-type {\n",
       "        vertical-align: middle;\n",
       "    }\n",
       "\n",
       "    .dataframe tbody tr th {\n",
       "        vertical-align: top;\n",
       "    }\n",
       "\n",
       "    .dataframe thead th {\n",
       "        text-align: right;\n",
       "    }\n",
       "</style>\n",
       "<table border=\"1\" class=\"dataframe\">\n",
       "  <thead>\n",
       "    <tr style=\"text-align: right;\">\n",
       "      <th></th>\n",
       "      <th>Year</th>\n",
       "      <th>Month</th>\n",
       "      <th>Korea</th>\n",
       "    </tr>\n",
       "  </thead>\n",
       "  <tbody>\n",
       "    <tr>\n",
       "      <th>53</th>\n",
       "      <td>1972</td>\n",
       "      <td>Jan</td>\n",
       "      <td>10</td>\n",
       "    </tr>\n",
       "    <tr>\n",
       "      <th>54</th>\n",
       "      <td>1972</td>\n",
       "      <td>Feb</td>\n",
       "      <td>13</td>\n",
       "    </tr>\n",
       "    <tr>\n",
       "      <th>55</th>\n",
       "      <td>1972</td>\n",
       "      <td>Mar</td>\n",
       "      <td>11</td>\n",
       "    </tr>\n",
       "    <tr>\n",
       "      <th>56</th>\n",
       "      <td>1972</td>\n",
       "      <td>Apr</td>\n",
       "      <td>13</td>\n",
       "    </tr>\n",
       "    <tr>\n",
       "      <th>57</th>\n",
       "      <td>1972</td>\n",
       "      <td>May</td>\n",
       "      <td>13</td>\n",
       "    </tr>\n",
       "    <tr>\n",
       "      <th>58</th>\n",
       "      <td>1972</td>\n",
       "      <td>Jun</td>\n",
       "      <td>14</td>\n",
       "    </tr>\n",
       "    <tr>\n",
       "      <th>59</th>\n",
       "      <td>1972</td>\n",
       "      <td>Jul</td>\n",
       "      <td>12</td>\n",
       "    </tr>\n",
       "    <tr>\n",
       "      <th>60</th>\n",
       "      <td>1972</td>\n",
       "      <td>Aug</td>\n",
       "      <td>14</td>\n",
       "    </tr>\n",
       "    <tr>\n",
       "      <th>61</th>\n",
       "      <td>1972</td>\n",
       "      <td>Sep</td>\n",
       "      <td>19</td>\n",
       "    </tr>\n",
       "    <tr>\n",
       "      <th>62</th>\n",
       "      <td>1972</td>\n",
       "      <td>Oct</td>\n",
       "      <td>18</td>\n",
       "    </tr>\n",
       "    <tr>\n",
       "      <th>63</th>\n",
       "      <td>1972</td>\n",
       "      <td>Nov</td>\n",
       "      <td>22</td>\n",
       "    </tr>\n",
       "    <tr>\n",
       "      <th>64</th>\n",
       "      <td>1972</td>\n",
       "      <td>Dec</td>\n",
       "      <td>19</td>\n",
       "    </tr>\n",
       "  </tbody>\n",
       "</table>\n",
       "</div>"
      ],
      "text/plain": [
       "    Year Month  Korea\n",
       "53  1972   Jan     10\n",
       "54  1972   Feb     13\n",
       "55  1972   Mar     11\n",
       "56  1972   Apr     13\n",
       "57  1972   May     13\n",
       "58  1972   Jun     14\n",
       "59  1972   Jul     12\n",
       "60  1972   Aug     14\n",
       "61  1972   Sep     19\n",
       "62  1972   Oct     18\n",
       "63  1972   Nov     22\n",
       "64  1972   Dec     19"
      ]
     },
     "execution_count": 91,
     "metadata": {},
     "output_type": "execute_result"
    }
   ],
   "source": [
    "df.head(12)"
   ]
  },
  {
   "cell_type": "code",
   "execution_count": 92,
   "id": "a08dbdb6-e80b-4ed9-a60e-d364329e262b",
   "metadata": {},
   "outputs": [
    {
     "data": {
      "text/plain": [
       "<zip at 0x232dd9d3500>"
      ]
     },
     "execution_count": 92,
     "metadata": {},
     "output_type": "execute_result"
    }
   ],
   "source": [
    "zip(range(1, 13), list(df['Month'][0:12]))"
   ]
  },
  {
   "cell_type": "code",
   "execution_count": 93,
   "id": "8f382776-3f00-4d28-a1b7-5c85bcdf64c5",
   "metadata": {},
   "outputs": [
    {
     "data": {
      "text/plain": [
       "{'Jan': '01',\n",
       " 'Feb': '02',\n",
       " 'Mar': '03',\n",
       " 'Apr': '04',\n",
       " 'May': '05',\n",
       " 'Jun': '06',\n",
       " 'Jul': '07',\n",
       " 'Aug': '08',\n",
       " 'Sep': '09',\n",
       " 'Oct': '10',\n",
       " 'Nov': '11',\n",
       " 'Dec': '12'}"
      ]
     },
     "execution_count": 93,
     "metadata": {},
     "output_type": "execute_result"
    }
   ],
   "source": [
    "keys = df['Month'][0:12]\n",
    "vals = ['01', '02', '03', '04', '05', '06', '07', '08', '09', '10', '11', '12']\n",
    "\n",
    "month_dict = dict(zip(keys, vals))\n",
    "month_dict"
   ]
  },
  {
   "cell_type": "code",
   "execution_count": 94,
   "id": "9b791eba-afae-4223-a9d5-b3f0ef82b8a9",
   "metadata": {},
   "outputs": [],
   "source": [
    "df['Year1'] = df['Year'].astype(str) +[month_dict.get(key) for key in df['Month']]"
   ]
  },
  {
   "cell_type": "code",
   "execution_count": 95,
   "id": "ae917928-03c6-4b0c-9e34-1429730c47d0",
   "metadata": {
    "scrolled": true
   },
   "outputs": [
    {
     "data": {
      "text/html": [
       "<div>\n",
       "<style scoped>\n",
       "    .dataframe tbody tr th:only-of-type {\n",
       "        vertical-align: middle;\n",
       "    }\n",
       "\n",
       "    .dataframe tbody tr th {\n",
       "        vertical-align: top;\n",
       "    }\n",
       "\n",
       "    .dataframe thead th {\n",
       "        text-align: right;\n",
       "    }\n",
       "</style>\n",
       "<table border=\"1\" class=\"dataframe\">\n",
       "  <thead>\n",
       "    <tr style=\"text-align: right;\">\n",
       "      <th></th>\n",
       "      <th>Year</th>\n",
       "      <th>Month</th>\n",
       "      <th>Korea</th>\n",
       "      <th>Year1</th>\n",
       "    </tr>\n",
       "  </thead>\n",
       "  <tbody>\n",
       "    <tr>\n",
       "      <th>53</th>\n",
       "      <td>1972</td>\n",
       "      <td>Jan</td>\n",
       "      <td>10</td>\n",
       "      <td>197201</td>\n",
       "    </tr>\n",
       "    <tr>\n",
       "      <th>54</th>\n",
       "      <td>1972</td>\n",
       "      <td>Feb</td>\n",
       "      <td>13</td>\n",
       "      <td>197202</td>\n",
       "    </tr>\n",
       "    <tr>\n",
       "      <th>55</th>\n",
       "      <td>1972</td>\n",
       "      <td>Mar</td>\n",
       "      <td>11</td>\n",
       "      <td>197203</td>\n",
       "    </tr>\n",
       "    <tr>\n",
       "      <th>56</th>\n",
       "      <td>1972</td>\n",
       "      <td>Apr</td>\n",
       "      <td>13</td>\n",
       "      <td>197204</td>\n",
       "    </tr>\n",
       "    <tr>\n",
       "      <th>57</th>\n",
       "      <td>1972</td>\n",
       "      <td>May</td>\n",
       "      <td>13</td>\n",
       "      <td>197205</td>\n",
       "    </tr>\n",
       "    <tr>\n",
       "      <th>...</th>\n",
       "      <td>...</td>\n",
       "      <td>...</td>\n",
       "      <td>...</td>\n",
       "      <td>...</td>\n",
       "    </tr>\n",
       "    <tr>\n",
       "      <th>690</th>\n",
       "      <td>2025</td>\n",
       "      <td>Feb</td>\n",
       "      <td>4885</td>\n",
       "      <td>202502</td>\n",
       "    </tr>\n",
       "    <tr>\n",
       "      <th>691</th>\n",
       "      <td>2025</td>\n",
       "      <td>Mar</td>\n",
       "      <td>5200</td>\n",
       "      <td>202503</td>\n",
       "    </tr>\n",
       "    <tr>\n",
       "      <th>692</th>\n",
       "      <td>2025</td>\n",
       "      <td>Apr</td>\n",
       "      <td>4843</td>\n",
       "      <td>202504</td>\n",
       "    </tr>\n",
       "    <tr>\n",
       "      <th>693</th>\n",
       "      <td>2025</td>\n",
       "      <td>May</td>\n",
       "      <td>4672</td>\n",
       "      <td>202505</td>\n",
       "    </tr>\n",
       "    <tr>\n",
       "      <th>694</th>\n",
       "      <td>2025</td>\n",
       "      <td>Jun</td>\n",
       "      <td>4669</td>\n",
       "      <td>202506</td>\n",
       "    </tr>\n",
       "  </tbody>\n",
       "</table>\n",
       "<p>642 rows × 4 columns</p>\n",
       "</div>"
      ],
      "text/plain": [
       "     Year Month  Korea   Year1\n",
       "53   1972   Jan     10  197201\n",
       "54   1972   Feb     13  197202\n",
       "55   1972   Mar     11  197203\n",
       "56   1972   Apr     13  197204\n",
       "57   1972   May     13  197205\n",
       "..    ...   ...    ...     ...\n",
       "690  2025   Feb   4885  202502\n",
       "691  2025   Mar   5200  202503\n",
       "692  2025   Apr   4843  202504\n",
       "693  2025   May   4672  202505\n",
       "694  2025   Jun   4669  202506\n",
       "\n",
       "[642 rows x 4 columns]"
      ]
     },
     "execution_count": 95,
     "metadata": {},
     "output_type": "execute_result"
    }
   ],
   "source": [
    "df"
   ]
  },
  {
   "cell_type": "code",
   "execution_count": 97,
   "id": "57731f56-cf3f-4192-b263-e5101a360503",
   "metadata": {},
   "outputs": [],
   "source": [
    "df['Year'] = pd.to_datetime(df['Year1'], format='%Y%m')\n",
    "df.drop(columns=['Year1'], inplace=True)"
   ]
  },
  {
   "cell_type": "code",
   "execution_count": 107,
   "id": "150c501b-c73d-4cb7-b8f1-702d1f06909c",
   "metadata": {},
   "outputs": [],
   "source": [
    "df = df.reset_index(drop=True)"
   ]
  },
  {
   "cell_type": "code",
   "execution_count": 114,
   "id": "c7008c66-e840-444b-9d13-48246f88a9be",
   "metadata": {},
   "outputs": [
    {
     "data": {
      "text/html": [
       "<div>\n",
       "<style scoped>\n",
       "    .dataframe tbody tr th:only-of-type {\n",
       "        vertical-align: middle;\n",
       "    }\n",
       "\n",
       "    .dataframe tbody tr th {\n",
       "        vertical-align: top;\n",
       "    }\n",
       "\n",
       "    .dataframe thead th {\n",
       "        text-align: right;\n",
       "    }\n",
       "</style>\n",
       "<table border=\"1\" class=\"dataframe\">\n",
       "  <thead>\n",
       "    <tr style=\"text-align: right;\">\n",
       "      <th></th>\n",
       "      <th>Year</th>\n",
       "      <th>HK_export_to_Korea</th>\n",
       "    </tr>\n",
       "  </thead>\n",
       "  <tbody>\n",
       "    <tr>\n",
       "      <th>0</th>\n",
       "      <td>1972-01-01</td>\n",
       "      <td>10</td>\n",
       "    </tr>\n",
       "    <tr>\n",
       "      <th>1</th>\n",
       "      <td>1972-02-01</td>\n",
       "      <td>13</td>\n",
       "    </tr>\n",
       "    <tr>\n",
       "      <th>2</th>\n",
       "      <td>1972-03-01</td>\n",
       "      <td>11</td>\n",
       "    </tr>\n",
       "    <tr>\n",
       "      <th>3</th>\n",
       "      <td>1972-04-01</td>\n",
       "      <td>13</td>\n",
       "    </tr>\n",
       "    <tr>\n",
       "      <th>4</th>\n",
       "      <td>1972-05-01</td>\n",
       "      <td>13</td>\n",
       "    </tr>\n",
       "    <tr>\n",
       "      <th>...</th>\n",
       "      <td>...</td>\n",
       "      <td>...</td>\n",
       "    </tr>\n",
       "    <tr>\n",
       "      <th>637</th>\n",
       "      <td>2025-02-01</td>\n",
       "      <td>4885</td>\n",
       "    </tr>\n",
       "    <tr>\n",
       "      <th>638</th>\n",
       "      <td>2025-03-01</td>\n",
       "      <td>5200</td>\n",
       "    </tr>\n",
       "    <tr>\n",
       "      <th>639</th>\n",
       "      <td>2025-04-01</td>\n",
       "      <td>4843</td>\n",
       "    </tr>\n",
       "    <tr>\n",
       "      <th>640</th>\n",
       "      <td>2025-05-01</td>\n",
       "      <td>4672</td>\n",
       "    </tr>\n",
       "    <tr>\n",
       "      <th>641</th>\n",
       "      <td>2025-06-01</td>\n",
       "      <td>4669</td>\n",
       "    </tr>\n",
       "  </tbody>\n",
       "</table>\n",
       "<p>642 rows × 2 columns</p>\n",
       "</div>"
      ],
      "text/plain": [
       "          Year  HK_export_to_Korea\n",
       "0   1972-01-01                  10\n",
       "1   1972-02-01                  13\n",
       "2   1972-03-01                  11\n",
       "3   1972-04-01                  13\n",
       "4   1972-05-01                  13\n",
       "..         ...                 ...\n",
       "637 2025-02-01                4885\n",
       "638 2025-03-01                5200\n",
       "639 2025-04-01                4843\n",
       "640 2025-05-01                4672\n",
       "641 2025-06-01                4669\n",
       "\n",
       "[642 rows x 2 columns]"
      ]
     },
     "execution_count": 114,
     "metadata": {},
     "output_type": "execute_result"
    }
   ],
   "source": [
    "#df = df.drop(columns=['Month'])\n",
    "df.rename(columns={'Korea': 'HK_export_to_Korea'}, inplace=True)\n",
    "df"
   ]
  },
  {
   "cell_type": "code",
   "execution_count": 115,
   "id": "923822d5-cafd-4f72-9f5b-cec38b3ea47d",
   "metadata": {},
   "outputs": [
    {
     "name": "stdout",
     "output_type": "stream",
     "text": [
      "<class 'pandas.core.frame.DataFrame'>\n",
      "RangeIndex: 642 entries, 0 to 641\n",
      "Data columns (total 2 columns):\n",
      " #   Column              Non-Null Count  Dtype         \n",
      "---  ------              --------------  -----         \n",
      " 0   Year                642 non-null    datetime64[ns]\n",
      " 1   HK_export_to_Korea  642 non-null    int64         \n",
      "dtypes: datetime64[ns](1), int64(1)\n",
      "memory usage: 10.2 KB\n"
     ]
    }
   ],
   "source": [
    "df.info()"
   ]
  },
  {
   "cell_type": "markdown",
   "id": "6f51fe9a-5925-491f-873c-32c7fcabefcf",
   "metadata": {},
   "source": [
    "### Save"
   ]
  },
  {
   "cell_type": "code",
   "execution_count": 116,
   "id": "e15c1782-502d-47ac-b881-36fb7143de3f",
   "metadata": {},
   "outputs": [],
   "source": [
    "df.to_csv('HK_exports_to_korea_preprocessed.csv')"
   ]
  },
  {
   "cell_type": "code",
   "execution_count": null,
   "id": "01f53946-4ab2-49ff-8d34-4d9d3a3719ed",
   "metadata": {},
   "outputs": [],
   "source": [
    "# 로그 취해야 할 듯ㅈ"
   ]
  }
 ],
 "metadata": {
  "kernelspec": {
   "display_name": "Python 3 (ipykernel)",
   "language": "python",
   "name": "python3"
  },
  "language_info": {
   "codemirror_mode": {
    "name": "ipython",
    "version": 3
   },
   "file_extension": ".py",
   "mimetype": "text/x-python",
   "name": "python",
   "nbconvert_exporter": "python",
   "pygments_lexer": "ipython3",
   "version": "3.12.9"
  }
 },
 "nbformat": 4,
 "nbformat_minor": 5
}
